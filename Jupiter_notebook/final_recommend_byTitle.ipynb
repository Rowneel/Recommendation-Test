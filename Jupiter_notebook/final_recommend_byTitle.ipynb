{
 "cells": [
  {
   "cell_type": "markdown",
   "metadata": {},
   "source": [
    "## Might wanna check before using Rull All"
   ]
  },
  {
   "cell_type": "markdown",
   "metadata": {},
   "source": [
    "## Final recommendation By Title can use any csv"
   ]
  },
  {
   "cell_type": "code",
   "execution_count": 1,
   "metadata": {},
   "outputs": [],
   "source": [
    "import numpy as np\n",
    "import pandas as pd\n",
    "import pickle\n",
    "import re\n",
    "import json\n",
    "from sklearn.metrics.pairwise import cosine_similarity\n",
    "from sklearn.feature_extraction.text import CountVectorizer\n",
    "from sklearn.feature_extraction.text import TfidfVectorizer\n",
    "\n",
    "def reduce_memory(df):\n",
    "    for col in df.columns:\n",
    "        if df[col].dtype == 'float64':\n",
    "            df[col] = df[col].astype('float32')\n",
    "        if df[col].dtype == 'int64':\n",
    "            df[col] = df[col].astype('int32')\n",
    "    return df\n"
   ]
  },
  {
   "cell_type": "code",
   "execution_count": 2,
   "metadata": {},
   "outputs": [
    {
     "name": "stdout",
     "output_type": "stream",
     "text": [
      "0     prince of persia warrior within \n",
      "1          monaco what s yours is mine\n",
      "2                   escape dead island\n",
      "3              dungeon of the endless \n",
      "4                         metal slug 3\n",
      "5                              enclave\n",
      "6    hyperdimension neptunia re birth1\n",
      "7                 the sum of all fears\n",
      "Name: clean_title, dtype: object\n"
     ]
    }
   ],
   "source": [
    "\n",
    "games = reduce_memory(pd.read_csv(\"./games_preprocessed_with_tags_porterstemmer.csv\")) ##or any csv file for recomendation by title \n",
    "games.head(5)\n",
    "\n",
    "for i, row in games.iterrows():\n",
    "    clean = re.sub('[^A-Za-z0-9]+', ' ', row[\"title\"])\n",
    "    clean = clean.lower()\n",
    "    games.at[i, 'clean_title'] = clean\n",
    "\n",
    "print(games['clean_title'].head(8))\n"
   ]
  },
  {
   "cell_type": "markdown",
   "metadata": {},
   "source": [
    "### sim_matrix generation"
   ]
  },
  {
   "cell_type": "code",
   "execution_count": 3,
   "metadata": {},
   "outputs": [
    {
     "name": "stdout",
     "output_type": "stream",
     "text": [
      "0        prince of persia warrior within \n",
      "1             monaco what s yours is mine\n",
      "2                      escape dead island\n",
      "3                 dungeon of the endless \n",
      "4                            metal slug 3\n",
      "                       ...               \n",
      "40479                  welcome to kowloon\n",
      "40480                         taboo trial\n",
      "40481                           hometopia\n",
      "40482                    fading afternoon\n",
      "40483                 forgive me father 2\n",
      "Name: clean_title, Length: 40484, dtype: object\n",
      "['00' '000' '001' ... 'zylon' 'zzzz' 'zzzzz']\n",
      "<Compressed Sparse Row sparse matrix of dtype 'float64'\n",
      "\twith 6464911 stored elements and shape (40484, 40484)>\n",
      "  Coords\tValues\n",
      "  (0, 39632)\t0.23323953061107291\n",
      "  (0, 39391)\t0.21404423530480962\n",
      "  (0, 39254)\t0.2606836025238123\n",
      "  (0, 38695)\t0.28370040525252027\n",
      "  (0, 38663)\t0.23585779522386785\n",
      "  (0, 38307)\t0.3777635157480767\n",
      "  (0, 38001)\t0.25433217017139964\n",
      "  (0, 37709)\t0.4119179194593477\n",
      "  (0, 35642)\t0.36405917209032773\n",
      "  (0, 35092)\t0.3218803449218089\n",
      "  (0, 33781)\t0.21913978031534095\n",
      "  (0, 33267)\t0.18781445312343809\n",
      "  (0, 33062)\t0.24181161906366935\n",
      "  (0, 32075)\t0.3153352525302587\n",
      "  (0, 30481)\t0.2945166614263147\n",
      "  (0, 29701)\t0.2479262774703165\n",
      "  (0, 29567)\t0.22399378565643793\n",
      "  (0, 28908)\t0.33429519763649546\n",
      "  (0, 27525)\t0.3211302873857271\n",
      "  (0, 27508)\t0.352450685580502\n",
      "  (0, 27080)\t0.2945166614263147\n",
      "  (0, 24127)\t0.223484800641376\n",
      "  (0, 23210)\t0.5110809941974355\n",
      "  (0, 22332)\t0.1940484397085358\n",
      "  (0, 22169)\t0.3153352525302587\n",
      "  :\t:\n",
      "  (40480, 6259)\t0.3332969350419671\n",
      "  (40480, 5973)\t0.3109767289528901\n",
      "  (40480, 4651)\t0.33044019445464207\n",
      "  (40481, 40481)\t1.0\n",
      "  (40482, 29096)\t0.5422136087548066\n",
      "  (40482, 26062)\t0.452315794093853\n",
      "  (40482, 20844)\t0.4269288328979954\n",
      "  (40482, 40482)\t1.0000000000000002\n",
      "  (40482, 21278)\t0.47514593623647655\n",
      "  (40482, 1205)\t0.4945035935367185\n",
      "  (40483, 40483)\t1.0\n",
      "  (40483, 36786)\t0.3258192791174169\n",
      "  (40483, 33642)\t0.3450318874872833\n",
      "  (40483, 23864)\t0.2569656957174812\n",
      "  (40483, 23652)\t0.34934762390377117\n",
      "  (40483, 22190)\t0.5115357078509042\n",
      "  (40483, 16688)\t0.4672884417069903\n",
      "  (40483, 16557)\t0.5280391942162589\n",
      "  (40483, 14247)\t0.23395816223529933\n",
      "  (40483, 14225)\t0.4817206812586429\n",
      "  (40483, 13698)\t0.2286111330529337\n",
      "  (40483, 8741)\t1.0\n",
      "  (40483, 6446)\t0.5205637779865695\n",
      "  (40483, 5789)\t0.3014101891420243\n",
      "  (40483, 3714)\t0.33037398137702695\n"
     ]
    }
   ],
   "source": [
    "\n",
    "count = TfidfVectorizer(stop_words='english')\n",
    "count_matrixx = count.fit_transform(games[\"clean_title\"])\n",
    "print(games[\"clean_title\"])\n",
    "# count.vocabulary_\n",
    "feature_names = count.get_feature_names_out()\n",
    "print(feature_names)\n",
    "cosine_sim_matrix = cosine_similarity(count_matrixx, dense_output=False) #gives sparse matrix\n",
    "print(cosine_sim_matrix)\n",
    "\n"
   ]
  },
  {
   "cell_type": "markdown",
   "metadata": {},
   "source": [
    "### Recommendation function for title"
   ]
  },
  {
   "cell_type": "code",
   "execution_count": null,
   "metadata": {},
   "outputs": [],
   "source": [
    "\n",
    "n_recommendation = 20\n",
    "def get_recommendations(title, cosine_sim):\n",
    "\tindex = games[games['title'] == title].index[0]\n",
    "\n",
    "\t# if there's 2 games or more with same name (game RUSH)\n",
    "\tif type(index) is pd.Series:\n",
    "\t\treturn []\n",
    "\t\n",
    "\tsimilarity_array = cosine_sim[index].toarray().flatten() #only if dense output is false i.e. sparse\n",
    "\t# Get the pairwise similarity scores of all games with that game\n",
    "\tsim_scores = list(enumerate(similarity_array))\n",
    "\n",
    "\t# Sort the games based on the similarity scores\n",
    "\tprint(sim_scores)\n",
    "\tsim_scores = sorted(sim_scores, key=lambda x: x[1], reverse=True)\n",
    "\n",
    "\t# Get the scores of the most similar games\n",
    "\t# (not the first one because this games as a score of 1 (perfect score) similarity\n",
    "    # with itself)\n",
    "\tsim_scores = sim_scores[1:n_recommendation + 1]\n",
    "\n",
    "\t# Get the games indices\n",
    "\tmovie_indices = [i[0] for i in sim_scores]\n",
    "\n",
    "\t# Return the top most similar games\n",
    "\treturn games['title'].iloc[movie_indices].tolist()\n",
    "\n",
    "get_recommendations(\"Chasm\", cosine_sim_matrix)"
   ]
  },
  {
   "cell_type": "code",
   "execution_count": null,
   "metadata": {},
   "outputs": [],
   "source": [
    "get_recommendations(\"Chasm\", cosine_sim_matrix)"
   ]
  }
 ],
 "metadata": {
  "kernelspec": {
   "display_name": ".venv",
   "language": "python",
   "name": "python3"
  },
  "language_info": {
   "codemirror_mode": {
    "name": "ipython",
    "version": 3
   },
   "file_extension": ".py",
   "mimetype": "text/x-python",
   "name": "python",
   "nbconvert_exporter": "python",
   "pygments_lexer": "ipython3",
   "version": "3.12.2"
  }
 },
 "nbformat": 4,
 "nbformat_minor": 2
}
