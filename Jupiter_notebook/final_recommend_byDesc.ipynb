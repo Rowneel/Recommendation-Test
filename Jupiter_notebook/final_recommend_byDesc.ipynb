{
 "cells": [
  {
   "cell_type": "markdown",
   "metadata": {},
   "source": [
    "Check Create_Own_pkl_file.ipynb file to get the pkl file used here."
   ]
  },
  {
   "cell_type": "code",
   "execution_count": null,
   "metadata": {},
   "outputs": [],
   "source": [
    "import pandas as pd\n",
    "import numpy as np\n",
    "import pickle\n",
    "\n",
    "def reduce_memory(df):\n",
    "    for col in df.columns:\n",
    "        if df[col].dtype == 'float64':\n",
    "            df[col] = df[col].astype('float32')\n",
    "        if df[col].dtype == 'int64':\n",
    "            df[col] = df[col].astype('int32')\n",
    "    return df\n",
    "\n",
    "games = reduce_memory(pd.read_csv('./final_games_data_forDesc.csv'))\n",
    "n_recommendation = 20\n",
    "\n",
    "similarity=pickle.load(open(\"./similarity_forDesc.pkl\",'rb'))\n",
    "\n",
    "def recommend(game):\n",
    "    index = games[games['title'] == game].index[0]\n",
    "    sim_scores = sorted(list(enumerate(similarity[index])),reverse=True,key = lambda x: x[1])\n",
    "    game_lists=[]\n",
    "    for i in sim_scores[1:n_recommendation]:\n",
    "        game_lists.append(games.iloc[i[0]].title)\n",
    "    return game_lists\n",
    "\n",
    "recommend('Call of Duty®: Black Ops Cold War')"
   ]
  },
  {
   "cell_type": "code",
   "execution_count": null,
   "metadata": {},
   "outputs": [],
   "source": [
    "recommend(\"Animal Academy\")"
   ]
  }
 ],
 "metadata": {
  "kernelspec": {
   "display_name": "venv",
   "language": "python",
   "name": "python3"
  },
  "language_info": {
   "codemirror_mode": {
    "name": "ipython",
    "version": 3
   },
   "file_extension": ".py",
   "mimetype": "text/x-python",
   "name": "python",
   "nbconvert_exporter": "python",
   "pygments_lexer": "ipython3",
   "version": "3.10.0"
  }
 },
 "nbformat": 4,
 "nbformat_minor": 2
}
