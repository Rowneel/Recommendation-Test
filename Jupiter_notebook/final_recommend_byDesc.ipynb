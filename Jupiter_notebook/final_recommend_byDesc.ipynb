{
 "cells": [
  {
   "cell_type": "markdown",
   "metadata": {},
   "source": [
    "Check Create_Own_pkl_file.ipynb file to get the pkl file used here."
   ]
  },
  {
   "cell_type": "code",
   "execution_count": 11,
   "metadata": {},
   "outputs": [
    {
     "name": "stdout",
     "output_type": "stream",
     "text": [
      "[0.14711597 0.12019874 0.04289989 ... 0.15500517 0.00997683 0.09296172]\n",
      "[16743 10213 16964 ... 16950  7613 14480]\n",
      "[1.         0.42751264 0.42734331 ... 0.         0.         0.        ]\n",
      "灵途\n",
      "新魔剑（New Magic Sword）\n",
      "VR Parallel World\n",
      "Ethyrial: Echoes of Yore\n",
      "西部幻想 WestFantasy\n",
      "Vantage: Primitive Survival Game\n",
      "Big Sword Hero\n",
      "Legendary Realms: A Fantasy World Odyssey\n",
      "神徒\n",
      "The RPG Engine\n",
      "Uptown Outbreak\n",
      "奇迹一刻 Surmount\n",
      "AOI\n",
      "Trashyard\n",
      "Avalom: Ancestral Heroes\n",
      "Danganronpa S: Ultimate Summer Camp\n",
      "Wyvern\n",
      "契约唤灵师\n",
      "Soulash\n"
     ]
    }
   ],
   "source": [
    "import pandas as pd\n",
    "import numpy as np\n",
    "import pickle\n",
    "from sklearn.metrics.pairwise import cosine_similarity\n",
    "\n",
    "\n",
    "def reduce_memory(df):\n",
    "    for col in df.columns:\n",
    "        if df[col].dtype == 'float64':\n",
    "            df[col] = df[col].astype('float32')\n",
    "        if df[col].dtype == 'int64':\n",
    "            df[col] = df[col].astype('int32')\n",
    "    return df\n",
    "\n",
    "games = reduce_memory(pd.read_csv('./final_games_data_forDesc.csv'))\n",
    "n_recommendation = 20\n",
    "vectors = pickle.load(open(\"./vectors_forDesc_final.pkl\",'rb'))\n",
    "\n",
    "# similarity=pickle.load(open(\"C:/Users/user/Desktop/recommendation/steam-recommendation/backend/static/src/similarity_forDesc.pkl\",'rb'))\n",
    "\n",
    "# def recommend(game):\n",
    "#     index = games[games['title'] == game].index[0]\n",
    "#     sim_scores = sorted(list(enumerate(similarity[index])),reverse=True,key = lambda x: x[1])\n",
    "#     print(sim_scores)\n",
    "#     game_lists=[]\n",
    "#     for i in sim_scores[1:n_recommendation]:\n",
    "#         game_lists.append(games.iloc[i[0]].title)\n",
    "#     return game_lists\n",
    "def recommend(game):\n",
    "    index = games[games['title'] == game].index[0]\n",
    "\n",
    "    item_vector = vectors[index]\n",
    "    similarities = cosine_similarity(item_vector, vectors).flatten()\n",
    "    print(similarities)\n",
    "    recommended_indices = similarities.argsort()[::-1]  # Get the indices of the most similar items\n",
    "    print(recommended_indices)\n",
    "    print(similarities[recommended_indices])\n",
    "    for i in recommended_indices[1:n_recommendation]:\n",
    "        print(games.iloc[i].title)\n",
    "\n",
    "recommend('God Sword')"
   ]
  },
  {
   "cell_type": "code",
   "execution_count": 12,
   "metadata": {},
   "outputs": [
    {
     "name": "stdout",
     "output_type": "stream",
     "text": [
      "[0.08461538 0.05640274 0.07850929 ... 0.07015456 0.16432361 0.07939182]\n",
      "[ 2145  2162  2152 ...  8755  2248 14729]\n",
      "[1.         0.61782654 0.52787967 ... 0.01614966 0.01591512 0.01247047]\n",
      "Call of Duty®: Modern Warfare®\n",
      "Call of Duty®: Vanguard\n",
      "Tactical Operations Force\n",
      "The Undisputables : Online Multiplayer Shooter\n",
      "Call of Duty®: Modern Warfare® II\n",
      "Cyberfrags '69\n",
      "Burst Squad\n",
      "World Of Stalkers\n",
      "Warplanes: Battles over Pacific\n",
      "The Last War\n",
      "Battle Strike World War\n",
      "PIRATECRAFT\n",
      "IronSurvival\n",
      "Fire On Fight : Online Multiplayer Shooter\n",
      "Wrestledunk Sports\n",
      "Gambit!\n",
      "TheDark\n",
      "EA SPORTS™ FIFA 23\n",
      "Warcos\n"
     ]
    }
   ],
   "source": [
    "recommend(\"Call of Duty®: Black Ops Cold War\")"
   ]
  },
  {
   "cell_type": "code",
   "execution_count": null,
   "metadata": {},
   "outputs": [],
   "source": [
    "recommend(\"Animal Academy\")"
   ]
  }
 ],
 "metadata": {
  "kernelspec": {
   "display_name": ".venv",
   "language": "python",
   "name": "python3"
  },
  "language_info": {
   "codemirror_mode": {
    "name": "ipython",
    "version": 3
   },
   "file_extension": ".py",
   "mimetype": "text/x-python",
   "name": "python",
   "nbconvert_exporter": "python",
   "pygments_lexer": "ipython3",
   "version": "3.12.2"
  }
 },
 "nbformat": 4,
 "nbformat_minor": 2
}
