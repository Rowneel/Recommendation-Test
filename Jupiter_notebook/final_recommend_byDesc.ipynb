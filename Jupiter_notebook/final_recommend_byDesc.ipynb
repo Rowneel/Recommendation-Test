{
 "cells": [
  {
   "cell_type": "markdown",
   "metadata": {},
   "source": [
    "Check Create_Own_pkl_file.ipynb file to get the pkl file used here."
   ]
  },
  {
   "cell_type": "code",
   "execution_count": 9,
   "metadata": {},
   "outputs": [],
   "source": [
    "import pandas as pd\n",
    "import numpy as np\n",
    "import pickle\n",
    "from sklearn.metrics.pairwise import cosine_similarity\n",
    "from sklearn.feature_extraction.text import TfidfVectorizer\n",
    "import pandas as pd\n",
    "cv=TfidfVectorizer(max_features=5000,stop_words='english')\n",
    "\n",
    "\n",
    "def reduce_memory(df):\n",
    "    for col in df.columns:\n",
    "        if df[col].dtype == 'float64':\n",
    "            df[col] = df[col].astype('float32')\n",
    "        if df[col].dtype == 'int64':\n",
    "            df[col] = df[col].astype('int32')\n",
    "    return df\n",
    "\n",
    "games = reduce_memory(pd.read_csv('./final_dataset.csv'))\n",
    "n_recommendation = 20\n",
    "vectors = pickle.load(open(\"./vectors_final_forDesc_tfid.pkl\",'rb'))\n",
    "\n",
    "# similarity=pickle.load(open(\"./similarity_forDesc.pkl\",'rb'))\n",
    "\n",
    "# def recommend(game):\n",
    "#     index = games[games['title'] == game].index[0]\n",
    "#     sim_scores = sorted(list(enumerate(similarity[index])),reverse=True,key = lambda x: x[1])\n",
    "#     print(sim_scores)\n",
    "#     game_lists=[]\n",
    "#     for i in sim_scores[1:n_recommendation]:\n",
    "#         game_lists.append(games.iloc[i[0]].title)\n",
    "#     return game_lists\n",
    "def recommend(game):\n",
    "    index = games[games['title'] == game].index[0]\n",
    "    \n",
    "\n",
    "    item_vector = vectors[index]\n",
    "    similarities = cosine_similarity(item_vector, vectors).flatten()\n",
    "    recommended_indices = similarities.argsort()[::-1]  # Get the indices of the most similar items\n",
    "    game_lists=[]\n",
    "    for i in recommended_indices[1:n_recommendation]:\n",
    "        game_lists.append(games.iloc[i].title)\n",
    "    return (game_lists)\n",
    "\n",
    "# recommend('God Sword')"
   ]
  },
  {
   "cell_type": "markdown",
   "metadata": {},
   "source": [
    "## Imroved Desc now with own Desc"
   ]
  },
  {
   "cell_type": "code",
   "execution_count": 15,
   "metadata": {},
   "outputs": [],
   "source": [
    "import pandas as pd\n",
    "import numpy as np\n",
    "import pickle\n",
    "from sklearn.metrics.pairwise import cosine_similarity\n",
    "from nltk.stem import PorterStemmer\n",
    "stemmer = PorterStemmer()\n",
    "import re\n",
    "\n",
    "def preprocess_text(text):\n",
    "    # Lowercase the text\n",
    "    text = text.lower()\n",
    "    \n",
    "    # Remove punctuation\n",
    "    text = re.sub(r'[^\\w\\s]', '', text)  # Removes all non-alphanumeric characters except spaces\n",
    "    \n",
    "    # Apply stemming\n",
    "    text = ' '.join([stemmer.stem(word) for word in text.split()])\n",
    "    \n",
    "    return text\n",
    "\n",
    "\n",
    "def reduce_memory(df):\n",
    "    for col in df.columns:\n",
    "        if df[col].dtype == 'float64':\n",
    "            df[col] = df[col].astype('float32')\n",
    "        if df[col].dtype == 'int64':\n",
    "            df[col] = df[col].astype('int32')\n",
    "    return df\n",
    "\n",
    "# Load data and precomputed vectors\n",
    "tfidfV = pickle.load(open(\"tfidf_vectorizer.pkl\", 'rb'))#yo fit on dataset which will be used to transfrom the input desc. yo chai naya pkl file \n",
    "games = reduce_memory(pd.read_csv('./final_dataset.csv'))\n",
    "vectors = pickle.load(open(\"./vectors_final_forDesc_tfid.pkl\", 'rb'))#yo fit_transfrom on dataset \n",
    "n_recommendation = 20\n",
    "\n",
    "\n",
    "def recommend(input_text):\n",
    "    try:\n",
    "        # Preprocess the input text\n",
    "        processed_text = preprocess_text(input_text)\n",
    "        \n",
    "        # Check if the processed input matches a game title\n",
    "        if processed_text in games['title'].str.lower().values:\n",
    "            index = games[games['title'].str.lower() == processed_text].index[0]\n",
    "            item_vector = vectors[index]\n",
    "        else:\n",
    "            # Treat processed input as a description and transform it to a vector\n",
    "            input_vector = tfidfV.transform([processed_text])\n",
    "            item_vector = input_vector.toarray()  # Convert sparse matrix to dense format for compatibility\n",
    "        \n",
    "        # Calculate cosine similarities\n",
    "        similarities = cosine_similarity(item_vector, vectors).flatten()\n",
    "        recommended_indices = similarities.argsort()[::-1]  # Sort by similarity score in descending order\n",
    "\n",
    "        # Retrieve recommended games\n",
    "        game_lists = []\n",
    "        for i in recommended_indices[1:n_recommendation]:\n",
    "            game_lists.append(games.iloc[i].title)\n",
    "        return game_lists\n",
    "\n",
    "    except Exception as e:\n",
    "        return f\"An error occurred: {e}\"\n"
   ]
  },
  {
   "cell_type": "code",
   "execution_count": 23,
   "metadata": {},
   "outputs": [
    {
     "data": {
      "text/plain": [
       "['MMORPG Tycoon 2',\n",
       " '已下架',\n",
       " '原始传奇',\n",
       " '云巅',\n",
       " 'Inferna',\n",
       " '龙魂大冒险',\n",
       " '大话江湖',\n",
       " 'Pandum online',\n",
       " 'Project: Gorgon',\n",
       " 'Legend of Edda Brasil',\n",
       " 'Zezenia Online',\n",
       " 'RPG MO',\n",
       " '御龙在天-平衡国战版',\n",
       " 'Eternal Quest - 2D MMORPG',\n",
       " 'ASU Global',\n",
       " 'NosTale - Anime MMORPG',\n",
       " 'Kaion Tale MMORPG',\n",
       " 'Hero Plus',\n",
       " 'Entasy Online']"
      ]
     },
     "execution_count": 23,
     "metadata": {},
     "output_type": "execute_result"
    }
   ],
   "source": [
    "recommend(\"rpg mmorpg\")"
   ]
  },
  {
   "cell_type": "code",
   "execution_count": 20,
   "metadata": {},
   "outputs": [
    {
     "data": {
      "text/plain": [
       "['Space Ops VR: Reloaded',\n",
       " 'Wings Over Europe',\n",
       " 'Call of Duty® 2',\n",
       " 'US and THEM',\n",
       " 'Command Ops 2 Core Game',\n",
       " 'Call of Duty: United Offensive',\n",
       " 'Men of War: Assault Squad 2 - Cold War',\n",
       " 'The Bureau: XCOM Declassified',\n",
       " 'Theatre of War 3: Korea',\n",
       " 'Darkest Hour: A Hearts of Iron Game',\n",
       " 'Supreme Ruler: Cold War',\n",
       " 'SWAT 3: Tactical Game of the Year Edition',\n",
       " 'The Cursed Tower',\n",
       " 'Supreme Ruler Ultimate',\n",
       " \"Alekhine's Gun\",\n",
       " 'The Cold War Era',\n",
       " 'Battlefield: Bad Company 2 Vietnam',\n",
       " 'Men of War: Vietnam',\n",
       " 'Follow The Crown']"
      ]
     },
     "execution_count": 20,
     "metadata": {},
     "output_type": "execute_result"
    }
   ],
   "source": [
    "recommend(\"Call of Duty®: Black Ops Cold War\")"
   ]
  },
  {
   "cell_type": "code",
   "execution_count": 16,
   "metadata": {},
   "outputs": [
    {
     "data": {
      "text/plain": [
       "['Half-Life 2: Episode Two',\n",
       " \"Half-Life 2: Genry's Great Escape From City 13\",\n",
       " 'Half-Life: Before',\n",
       " 'Half-Life 2',\n",
       " 'Half-Life: Source',\n",
       " 'Half-Life 2: Update',\n",
       " 'Half-Life: Restored',\n",
       " 'Requiem Of Science',\n",
       " 'Half-Life Deathmatch: Source',\n",
       " 'Half-Life 2: VR Mod - Episode One',\n",
       " 'Entropy : Zero',\n",
       " 'Half-Life: Blue Shift',\n",
       " 'Half-Life: Alyx - Final Hours',\n",
       " 'Half-Life 2: Lost Coast',\n",
       " 'Halfquake Trilogy',\n",
       " 'Synergy',\n",
       " 'Half-Life: MMod',\n",
       " 'Half-Life: VR Mod',\n",
       " 'Transmissions: Element 120']"
      ]
     },
     "execution_count": 16,
     "metadata": {},
     "output_type": "execute_result"
    }
   ],
   "source": [
    "recommend(\"Half-Life 2: Episode One\")"
   ]
  },
  {
   "cell_type": "code",
   "execution_count": 12,
   "metadata": {},
   "outputs": [],
   "source": [
    "def get_game_recommendations(game_name):\n",
    "    n=10\n",
    "    game_similarity_df = pickle.load(open(\"./game_similarity_df.pkl\",'rb'))\n",
    "    mapped_df = pickle.load(open(\"./mapped_df.pkl\",'rb'))\n",
    "    # Check if the game name exists in the filtered_df_player_count\n",
    "    if game_name not in mapped_df['title'].values:\n",
    "        print(\"The game lacks rating. Unable to find recommendations.\")\n",
    "        return\n",
    "\n",
    "    \n",
    "    # Get the app_id of the input game\n",
    "    app_id = mapped_df.loc[mapped_df['title'] == game_name, 'app_id'].values[0]\n",
    "    \n",
    "    # Check if the app_id is in the similarity matrix\n",
    "    if app_id not in game_similarity_df.index:\n",
    "        print(\"No similar games found/ Low rated game \")\n",
    "        return\n",
    "    \n",
    "    # Get similarity scores for the game and sort them in descending order\n",
    "    similarity_scores = game_similarity_df.loc[app_id].sort_values(ascending=False)\n",
    "    \n",
    "    # Get top n similar app_ids (excluding the game itself)\n",
    "    top_app_ids = similarity_scores.iloc[1:n+1].index  # Exclude the first as it's the game itself\n",
    "    \n",
    "    # Map app_ids to game titles\n",
    "    recommendations = mapped_df[mapped_df['app_id'].isin(top_app_ids)]['title'].tolist()\n",
    "    \n",
    "    return (recommendations)"
   ]
  },
  {
   "cell_type": "code",
   "execution_count": 39,
   "metadata": {},
   "outputs": [],
   "source": [
    "ground_truth = {\n",
    "    \"Call of Duty® 2\": [\"Call of Duty®\", \"Call of Duty®: Modern Warfare® Remastered (2017)\", \n",
    "                        \"Battle For The Sun\", \"Call of Duty: United Offensive\",\"Verdun\",'Call of Duty® 4: Modern Warfare® (2007)'],\n",
    "    \"Half-Life 2: Episode One\": [\"Half-Life 2\",\"Half-Life 2: Episode Two\", \"Half-Life: Source\",\"Half-Life: Before\",\"Half-Life 2: Genry's Great Escape From City 13\",\"Half-Life 2: VR Mod - Episode One\"],  # Relevant items for Half-Life\n",
    "    \"Battlefield: Bad Company™ 2\": [\"Battlefield 4™\",\"Battlefield™ 2042\",\"Combat Cycle\",\"Heroic Armored Company\",\"Vanguard: Normandy 1944\",\"Battlefield: Bad Company 2 Vietnam\"],\n",
    "    \"Batman: Arkham City - Game of the Year Edition\": [\"Batman: Arkham Asylum Game of the Year Edition\",\"Batman™: Arkham Origins\",\"Injustice: Gods Among Us Ultimate Edition\",\"Batman™: Arkham Origins Blackgate - Deluxe Edition\",\"PowersVR\"]\n",
    "}"
   ]
  },
  {
   "cell_type": "code",
   "execution_count": 42,
   "metadata": {},
   "outputs": [
    {
     "data": {
      "text/plain": [
       "['Call of Duty: United Offensive',\n",
       " 'Call of Duty®',\n",
       " 'Battle For The Sun',\n",
       " 'Call of Duty® 4: Modern Warfare® (2007)',\n",
       " 'SWAT 3: Tactical Game of the Year Edition',\n",
       " 'Call of Duty®: Modern Warfare® Remastered (2017)',\n",
       " 'Warrior Paint - 2005 GOTY Edition',\n",
       " 'Land of War - The Beginning',\n",
       " 'Day of Defeat: Source',\n",
       " 'Call of Duty®: Ghosts',\n",
       " 'Verdun',\n",
       " 'Fog Of War - Free Edition',\n",
       " 'World War II GI',\n",
       " 'Red Orchestra: Ostfront 41-45',\n",
       " 'Blitzkrieg 2 Anthology',\n",
       " 'Toy Soldiers',\n",
       " 'Wheels of Duty',\n",
       " 'Honor and Duty: D-Day',\n",
       " 'Day of Infamy']"
      ]
     },
     "execution_count": 42,
     "metadata": {},
     "output_type": "execute_result"
    }
   ],
   "source": [
    "recommend(\"Call of Duty® 2\")"
   ]
  },
  {
   "cell_type": "code",
   "execution_count": 27,
   "metadata": {},
   "outputs": [],
   "source": [
    "def calculate_precision_recall(input_title, recommended_titles, ground_truth, top_n=3):\n",
    "    \"\"\"\n",
    "    Calculate precision, recall, and other metrics for a single input title.\n",
    "    \"\"\"\n",
    "    # Get the relevant items from the ground truth for this test item\n",
    "    relevant_items = ground_truth.get(input_title, [])\n",
    "    if not relevant_items:\n",
    "        return {\"precision\": 0, \"recall\": 0, \"true_positives\": 0, \"false_positives\": 0, \"false_negatives\": 0}\n",
    "    # Consider only the top N recommended items\n",
    "    top_recommended = recommended_titles[:top_n]\n",
    "    # Calculate true positives, false positives, and false negatives\n",
    "    true_positives = len(set(relevant_items) & set(top_recommended))\n",
    "    false_positives = len(set(top_recommended) - set(relevant_items))\n",
    "    false_negatives = len(set(relevant_items) - set(top_recommended))\n",
    "    # Calculate precision and recall\n",
    "    precision = true_positives / len(top_recommended) if len(top_recommended) > 0 else 0\n",
    "    recall = true_positives / len(relevant_items) if len(relevant_items) > 0 else 0\n",
    "    return {\n",
    "        \"precision\": precision,\n",
    "        \"recall\": recall,\n",
    "        \"true_positives\": true_positives,\n",
    "        \"false_positives\": false_positives,\n",
    "        \"false_negatives\": false_negatives,\n",
    "    }\n"
   ]
  },
  {
   "cell_type": "code",
   "execution_count": 56,
   "metadata": {},
   "outputs": [
    {
     "name": "stdout",
     "output_type": "stream",
     "text": [
      "<class 'list'>\n",
      "['Half-Life 2', 'Half-Life 2: Episode One', 'Half-Life 2: Episode Two', 'Portal', 'Team Fortress 2', 'Left 4 Dead', 'Portal 2']\n",
      "['Half-Life 2', 'Counter-Strike: Source', 'Half-Life 2: Episode One', 'Portal', 'Half-Life 2: Episode Two', 'Team Fortress 2', 'Left 4 Dead', 'Portal 2']\n",
      "Recommendations for 'Half-Life':\n",
      "['Half-Life 2', 'Counter-Strike: Source', 'Half-Life 2: Episode One', 'Portal', 'Half-Life 2: Episode Two', 'Team Fortress 2', 'Left 4 Dead', 'Portal 2', 'POSTAL 2', 'Black Mesa']\n",
      "Precision: 0.875\n",
      "Recall: 1.0\n",
      "0.9333333333333333\n"
     ]
    }
   ],
   "source": [
    "input_title = \"Half-Life\"\n",
    "# recommended_titles = recommend(input_title)\n",
    "recommended_titles = get_game_recommendations(\"Half-Life\")\n",
    "\n",
    "print(type(recommended_titles));\n",
    "\n",
    "# Calculate precision and recall for the recommendation\n",
    "metrics = calculate_precision_recall(input_title, recommended_titles, ground_truth, top_n=8)\n",
    "\n",
    "print(f\"Recommendations for '{input_title}':\")\n",
    "print(recommended_titles)\n",
    "print(f\"Precision: {metrics['precision']}\")\n",
    "print(f\"Recall: {metrics['recall']}\")\n",
    "precision = metrics['precision']\n",
    "recall = metrics['recall']\n",
    "\n",
    "# Calculate F1 score\n",
    "if precision + recall > 0:\n",
    "    f1_score = 2 * (precision * recall) / (precision + recall)\n",
    "else:\n",
    "    f1_score = 0.0\n",
    "\n",
    "print(\"Fi Score:\", f1_score)\n",
    "\n"
   ]
  },
  {
   "cell_type": "code",
   "execution_count": 41,
   "metadata": {},
   "outputs": [
    {
     "name": "stdout",
     "output_type": "stream",
     "text": [
      "Precision: 0.8333333333333334\n",
      "Recall: 0.8695652173913043\n",
      "Averaged F1 Score: 0.851063829787234\n"
     ]
    }
   ],
   "source": [
    "all_titles = [\"Call of Duty® 2\", \"Half-Life 2: Episode One\",\"Battlefield: Bad Company™ 2\",\"Batman: Arkham City - Game of the Year Edition\"]\n",
    "f1_scores = []\n",
    "total_tp, total_fp, total_fn = 0, 0, 0  # For micro-average\n",
    "for input_title in all_titles:\n",
    "    # Get recommendations\n",
    "    recommended_titles = recommend(input_title)\n",
    "    # Calculate precision and recall\n",
    "    metrics = calculate_precision_recall(input_title, recommended_titles, ground_truth, top_n=6)\n",
    "    precision = metrics['precision']\n",
    "    recall = metrics['recall']\n",
    "    # Calculate F1 score for this title\n",
    "    if precision + recall > 0:\n",
    "        f1 = 2 * (precision * recall) / (precision + recall)\n",
    "    else:\n",
    "        f1 = 0.0\n",
    "    # Add F1 score to list for macro-average\n",
    "    f1_scores.append(f1)\n",
    "    # Aggregate TP, FP, FN for micro-average\n",
    "    total_tp += metrics['true_positives']\n",
    "    total_fp += metrics['false_positives']\n",
    "    total_fn += metrics['false_negatives']\n",
    "# Micro-Averaged F1\n",
    "if total_tp + total_fp > 0 and total_tp + total_fn > 0:\n",
    "    micro_precision = total_tp / (total_tp + total_fp)\n",
    "    micro_recall = total_tp / (total_tp + total_fn)\n",
    "    micro_f1 = 2 * (micro_precision * micro_recall) / (micro_precision + micro_recall)\n",
    "else:\n",
    "    micro_f1 = 0.0\n",
    "# print(f\"Macro-Averaged F1: {macro_f1}\")\n",
    "print(f\"Precision: {micro_precision}\" )\n",
    "print(f\"Recall: {micro_recall}\" )\n",
    "print(f\"Averaged F1 Score: {micro_f1}\")\n"
   ]
  },
  {
   "cell_type": "code",
   "execution_count": 41,
   "metadata": {},
   "outputs": [
    {
     "data": {
      "text/plain": [
       "['Half-Life 2',\n",
       " 'Counter-Strike: Source',\n",
       " 'Half-Life 2: Episode One',\n",
       " 'Portal',\n",
       " 'Half-Life 2: Episode Two',\n",
       " 'Team Fortress 2',\n",
       " 'Left 4 Dead',\n",
       " 'Portal 2',\n",
       " 'POSTAL 2',\n",
       " 'Black Mesa']"
      ]
     },
     "execution_count": 41,
     "metadata": {},
     "output_type": "execute_result"
    }
   ],
   "source": []
  }
 ],
 "metadata": {
  "kernelspec": {
   "display_name": ".venv",
   "language": "python",
   "name": "python3"
  },
  "language_info": {
   "codemirror_mode": {
    "name": "ipython",
    "version": 3
   },
   "file_extension": ".py",
   "mimetype": "text/x-python",
   "name": "python",
   "nbconvert_exporter": "python",
   "pygments_lexer": "ipython3",
   "version": "3.12.2"
  }
 },
 "nbformat": 4,
 "nbformat_minor": 2
}
