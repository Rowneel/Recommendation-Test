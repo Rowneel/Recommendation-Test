{
 "cells": [
  {
   "cell_type": "markdown",
   "metadata": {},
   "source": [
    "## Might wanna check before using Rull All"
   ]
  },
  {
   "cell_type": "markdown",
   "metadata": {},
   "source": [
    "## Final recommendation By Title can use any csv"
   ]
  },
  {
   "cell_type": "code",
   "execution_count": 1,
   "metadata": {},
   "outputs": [],
   "source": [
    "import numpy as np\n",
    "import pandas as pd\n",
    "import pickle\n",
    "import re\n",
    "import json\n",
    "from sklearn.metrics.pairwise import cosine_similarity\n",
    "from sklearn.feature_extraction.text import CountVectorizer\n",
    "from sklearn.feature_extraction.text import TfidfVectorizer\n",
    "\n",
    "def reduce_memory(df):\n",
    "    for col in df.columns:\n",
    "        if df[col].dtype == 'float64':\n",
    "            df[col] = df[col].astype('float32')\n",
    "        if df[col].dtype == 'int64':\n",
    "            df[col] = df[col].astype('int32')\n",
    "    return df\n"
   ]
  },
  {
   "cell_type": "code",
   "execution_count": null,
   "metadata": {},
   "outputs": [],
   "source": [
    "\n",
    "games = reduce_memory(pd.read_csv(\"./games_preprocessed_with_tags_porterstemmer.csv\")) ##or any csv file for recomendation by title \n",
    "games.head(5)\n",
    "\n",
    "for i, row in games.iterrows():\n",
    "    clean = re.sub('[^A-Za-z0-9]+', ' ', row[\"title\"])\n",
    "    clean = clean.lower()\n",
    "    games.at[i, 'clean_title'] = clean\n",
    "\n",
    "# print(games['clean_title'].head(8))\n",
    "# print(games['clean_title'])\n",
    "\n"
   ]
  },
  {
   "cell_type": "markdown",
   "metadata": {},
   "source": [
    "### sim_matrix generation"
   ]
  },
  {
   "cell_type": "code",
   "execution_count": null,
   "metadata": {},
   "outputs": [],
   "source": [
    "\n",
    "count = TfidfVectorizer(stop_words='english')\n",
    "count_matrixx = count.fit_transform(games[\"clean_title\"])\n",
    "print(games[\"clean_title\"])\n",
    "# # count.vocabulary_\n",
    "# feature_names = count.get_feature_names_out()\n",
    "# print(feature_names)\n",
    "cosine_sim_matrix = cosine_similarity(count_matrixx, dense_output=False) #gives sparse matrix\n",
    "print(cosine_sim_matrix)\n",
    "\n"
   ]
  },
  {
   "cell_type": "markdown",
   "metadata": {},
   "source": [
    "### Recommendation function for title"
   ]
  },
  {
   "cell_type": "code",
   "execution_count": null,
   "metadata": {},
   "outputs": [],
   "source": [
    "\n",
    "n_recommendation = 20\n",
    "def get_recommendations(title, cosine_sim):\n",
    "\tindex = games[games['title'] == title].index[0]\n",
    "\n",
    "\t# if there's 2 games or more with same name (game RUSH)\n",
    "\tif type(index) is pd.Series:\n",
    "\t\treturn []\n",
    "\t\n",
    "\tsimilarity_array = cosine_sim[index].toarray().flatten() #only if dense output is false i.e. sparse\n",
    "\t# Get the pairwise similarity scores of all games with that game\n",
    "\tsim_scores = list(enumerate(similarity_array))\n",
    "\n",
    "\t# Sort the games based on the similarity scores\n",
    "\tprint(sim_scores)\n",
    "\tsim_scores = sorted(sim_scores, key=lambda x: x[1], reverse=True)\n",
    "\n",
    "\t# Get the scores of the most similar games\n",
    "\t# (not the first one because this games as a score of 1 (perfect score) similarity\n",
    "    # with itself)\n",
    "\tsim_scores = sim_scores[1:n_recommendation + 1]\n",
    "\n",
    "\t# Get the games indices\n",
    "\tmovie_indices = [i[0] for i in sim_scores]\n",
    "\n",
    "\t# Return the top most similar games\n",
    "\treturn games['title'].iloc[movie_indices].tolist()\n",
    "\n",
    "get_recommendations(\"Chasm\", cosine_sim_matrix)"
   ]
  },
  {
   "cell_type": "code",
   "execution_count": null,
   "metadata": {},
   "outputs": [],
   "source": [
    "get_recommendations(\"Chasm\", cosine_sim_matrix)"
   ]
  }
 ],
 "metadata": {
  "kernelspec": {
   "display_name": ".venv",
   "language": "python",
   "name": "python3"
  },
  "language_info": {
   "codemirror_mode": {
    "name": "ipython",
    "version": 3
   },
   "file_extension": ".py",
   "mimetype": "text/x-python",
   "name": "python",
   "nbconvert_exporter": "python",
   "pygments_lexer": "ipython3",
   "version": "3.12.2"
  }
 },
 "nbformat": 4,
 "nbformat_minor": 2
}
