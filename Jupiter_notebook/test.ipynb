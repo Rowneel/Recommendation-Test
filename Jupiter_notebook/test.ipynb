{
 "cells": [
  {
   "cell_type": "code",
   "execution_count": 20,
   "metadata": {},
   "outputs": [],
   "source": [
    "import pandas as pd\n",
    "from django.http import JsonResponse\n",
    "import json"
   ]
  },
  {
   "cell_type": "code",
   "execution_count": 24,
   "metadata": {},
   "outputs": [
    {
     "name": "stdout",
     "output_type": "stream",
     "text": [
      "                                   title\n",
      "0      Prince of Persia: Warrior Within™\n",
      "1           Monaco: What's Yours Is Mine\n",
      "2                     Escape Dead Island\n",
      "3                Dungeon of the ENDLESS™\n",
      "4                           METAL SLUG 3\n",
      "...                                  ...\n",
      "40479                 Welcome to Kowloon\n",
      "40480                        Taboo Trial\n",
      "40481                          Hometopia\n",
      "40482                   Fading Afternoon\n",
      "40483                Forgive Me Father 2\n",
      "\n",
      "[40484 rows x 1 columns]\n"
     ]
    }
   ],
   "source": [
    "def reduce_memory(df):\n",
    "    for col in df.columns:\n",
    "        if df[col].dtype == 'float64':\n",
    "            df[col] = df[col].astype('float32')\n",
    "        if df[col].dtype == 'int64':\n",
    "            df[col] = df[col].astype('int32')\n",
    "    return df\n",
    "\n",
    "games = reduce_memory(pd.read_csv(\"./games_preprocessed_with_tags_porterstemmer.csv\",usecols=[\"title\"])) \n",
    "# games_title = games[\"title\"]\n",
    "print(games)\n"
   ]
  },
  {
   "cell_type": "code",
   "execution_count": null,
   "metadata": {},
   "outputs": [],
   "source": [
    "query = \"dot\"\n",
    "matches = games_title[games_title.str.contains(query,case=False,na=False)]\n",
    "suggestions = matches.head(5).tolist()\n",
    "# response = JsonResponse(suggestions, safe=False)\n",
    "response = json.dumps(suggestions, indent=4)\n",
    "print(response)"
   ]
  }
 ],
 "metadata": {
  "kernelspec": {
   "display_name": "venv",
   "language": "python",
   "name": "python3"
  },
  "language_info": {
   "codemirror_mode": {
    "name": "ipython",
    "version": 3
   },
   "file_extension": ".py",
   "mimetype": "text/x-python",
   "name": "python",
   "nbconvert_exporter": "python",
   "pygments_lexer": "ipython3",
   "version": "3.10.0"
  }
 },
 "nbformat": 4,
 "nbformat_minor": 2
}
