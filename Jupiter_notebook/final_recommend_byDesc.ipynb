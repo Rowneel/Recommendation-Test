{
 "cells": [
  {
   "cell_type": "markdown",
   "metadata": {},
   "source": [
    "Check Create_Own_pkl_file.ipynb file to get the pkl file used here."
   ]
  },
  {
   "cell_type": "code",
   "execution_count": 1,
   "metadata": {},
   "outputs": [
    {
     "data": {
      "text/plain": [
       "['Call of Duty®: Modern Warfare®',\n",
       " 'Call of Duty®: Vanguard',\n",
       " 'World Of Stalkers',\n",
       " 'Call of Duty®: Modern Warfare® II',\n",
       " 'Tactical Operations Force',\n",
       " 'Desecrators',\n",
       " 'The Undisputables : Online Multiplayer Shooter',\n",
       " 'Warplanes: Battles over Pacific',\n",
       " \"Cyberfrags '69\",\n",
       " 'IronSurvival',\n",
       " 'Gambit!',\n",
       " 'PIRATECRAFT',\n",
       " 'Wrestledunk Sports',\n",
       " 'Color Breakers',\n",
       " 'The Last War',\n",
       " 'Cavebound',\n",
       " 'Flykt',\n",
       " 'Rifle Strike',\n",
       " 'Floody']"
      ]
     },
     "execution_count": 1,
     "metadata": {},
     "output_type": "execute_result"
    }
   ],
   "source": [
    "import pandas as pd\n",
    "import numpy as np\n",
    "import pickle\n",
    "\n",
    "def reduce_memory(df):\n",
    "    for col in df.columns:\n",
    "        if df[col].dtype == 'float64':\n",
    "            df[col] = df[col].astype('float32')\n",
    "        if df[col].dtype == 'int64':\n",
    "            df[col] = df[col].astype('int32')\n",
    "    return df\n",
    "\n",
    "games = reduce_memory(pd.read_csv('./final_games_data_forDesc.csv'))\n",
    "n_recommendation = 20\n",
    "\n",
    "similarity=pickle.load(open(\"./similarity_forDesc.pkl\",'rb'))\n",
    "\n",
    "def recommend(game):\n",
    "    index = games[games['title'] == game].index[0]\n",
    "    sim_scores = sorted(list(enumerate(similarity[index])),reverse=True,key = lambda x: x[1])\n",
    "    game_lists=[]\n",
    "    for i in sim_scores[1:n_recommendation]:\n",
    "        game_lists.append(games.iloc[i[0]].title)\n",
    "    return game_lists\n",
    "\n",
    "recommend('Call of Duty®: Black Ops Cold War')"
   ]
  },
  {
   "cell_type": "code",
   "execution_count": 2,
   "metadata": {},
   "outputs": [
    {
     "data": {
      "text/plain": [
       "['Animal Survivors',\n",
       " 'Roadkill Raceway',\n",
       " 'Anime Arena: Infinite War',\n",
       " 'Animal Simulator',\n",
       " 'Survival Academy',\n",
       " 'Animal Doctor',\n",
       " 'My Life: Pet Vet',\n",
       " 'Before The Night',\n",
       " 'Motion Studio',\n",
       " 'Animal Kingdom',\n",
       " 'Old Bira´s Farm',\n",
       " 'The Mountain Hunting',\n",
       " 'In Woods',\n",
       " 'Lock Lock: Farm',\n",
       " 'Pet Vet 3D Animal hospital Down Under',\n",
       " 'Little Island',\n",
       " 'Animal Babysister Fighter : Zombie Coming!',\n",
       " 'Natural Instincts: European Forest',\n",
       " 'Runaway Animals']"
      ]
     },
     "execution_count": 2,
     "metadata": {},
     "output_type": "execute_result"
    }
   ],
   "source": [
    "recommend(\"Animal Academy\")"
   ]
  }
 ],
 "metadata": {
  "kernelspec": {
   "display_name": ".venv",
   "language": "python",
   "name": "python3"
  },
  "language_info": {
   "codemirror_mode": {
    "name": "ipython",
    "version": 3
   },
   "file_extension": ".py",
   "mimetype": "text/x-python",
   "name": "python",
   "nbconvert_exporter": "python",
   "pygments_lexer": "ipython3",
   "version": "3.12.2"
  }
 },
 "nbformat": 4,
 "nbformat_minor": 2
}
