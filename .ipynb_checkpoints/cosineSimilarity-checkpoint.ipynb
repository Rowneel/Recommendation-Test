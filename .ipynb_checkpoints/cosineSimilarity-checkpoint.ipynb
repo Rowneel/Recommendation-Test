{
 "cells": [
  {
   "cell_type": "code",
   "execution_count": 2,
   "id": "ffbb8edb-35d4-4fdc-8a2b-e06abf7618f3",
   "metadata": {},
   "outputs": [],
   "source": [
    "import numpy as np \n",
    "import pandas as pd"
   ]
  },
  {
   "cell_type": "code",
   "execution_count": null,
   "id": "383c55ee-c651-4263-ac34-0651c281bf49",
   "metadata": {},
   "outputs": [],
   "source": [
    "games = pd.read_csv('games.csv')\n",
    "recommendations = pd.read_csv('recommendations.csv')\n",
    "\n"
   ]
  },
  {
   "cell_type": "code",
   "execution_count": null,
   "id": "7db10256-3adb-43cd-80f0-8d72cb19c883",
   "metadata": {},
   "outputs": [],
   "source": [
    "users = pd.read_csv('users.csv')"
   ]
  },
  {
   "cell_type": "code",
   "execution_count": null,
   "id": "6a918e46-58b5-4aad-9098-7735426ce563",
   "metadata": {},
   "outputs": [],
   "source": [
    "games = games[['app_id','title']]\n",
    "games.head(5)\n"
   ]
  },
  {
   "cell_type": "code",
   "execution_count": null,
   "id": "8730f87e-1b88-4e32-a168-e6edda0415b4",
   "metadata": {},
   "outputs": [],
   "source": [
    "print(list(games.columns.values))\n",
    "print(games.shape)"
   ]
  },
  {
   "cell_type": "code",
   "execution_count": null,
   "id": "5431df36-1b53-4f9b-8852-8417a85fe91a",
   "metadata": {},
   "outputs": [],
   "source": [
    "recommendations = recommendations[[\"app_id\",\"hours\",\"user_id\"]]\n",
    "recommendations.head(5)"
   ]
  },
  {
   "cell_type": "code",
   "execution_count": null,
   "id": "27189804-e6fa-46cc-afeb-076e8f3ad77a",
   "metadata": {},
   "outputs": [],
   "source": [
    "print(list(recommendations.columns.values))\n",
    "print(recommendations.shape)"
   ]
  },
  {
   "cell_type": "code",
   "execution_count": null,
   "id": "3d3ec381-1432-4888-a5e8-00bdfebe17c1",
   "metadata": {},
   "outputs": [],
   "source": [
    "users.head(5)"
   ]
  },
  {
   "cell_type": "code",
   "execution_count": null,
   "id": "3838fdab-ea36-4884-8782-1699110c2be6",
   "metadata": {},
   "outputs": [],
   "source": [
    "print(list(users.columns.values))"
   ]
  },
  {
   "cell_type": "code",
   "execution_count": null,
   "id": "d523d92c-1994-4270-8def-375db7792582",
   "metadata": {},
   "outputs": [],
   "source": [
    "recommend_with_users = recommendations.merge(games,on='app_id')"
   ]
  },
  {
   "cell_type": "code",
   "execution_count": null,
   "id": "03bd5c7d-d2b4-493f-ad83-879fadc34033",
   "metadata": {},
   "outputs": [],
   "source": [
    "recommend_with_users.head(5)"
   ]
  },
  {
   "cell_type": "code",
   "execution_count": null,
   "id": "93432ed3-8186-4eb7-ba7d-74c89ce7a55d",
   "metadata": {},
   "outputs": [],
   "source": [
    "recommend_with_users.shape"
   ]
  },
  {
   "cell_type": "code",
   "execution_count": null,
   "id": "3cccf210-d260-443b-a03e-e38da9c2a0bb",
   "metadata": {},
   "outputs": [],
   "source": [
    "no_of_ppl_played_df = recommend_with_users.groupby('app_id').count()['user_id'].reset_index()\n",
    "no_of_ppl_played_df.rename(columns={'user_id':'no_of_ppl'},inplace=True)\n",
    "no_of_ppl_played_df.head(5)"
   ]
  },
  {
   "cell_type": "code",
   "execution_count": null,
   "id": "d8714d10-9978-46c9-aae2-0186d9cd8081",
   "metadata": {},
   "outputs": [],
   "source": [
    "no_of_ppl_played_df.shape"
   ]
  },
  {
   "cell_type": "code",
   "execution_count": null,
   "id": "a39dc6de-cfa0-457f-a16b-0470c4cea137",
   "metadata": {},
   "outputs": [],
   "source": [
    "print(no_of_ppl_played_df['no_of_ppl'].min())\n",
    "print(no_of_ppl_played_df['no_of_ppl'].max())"
   ]
  },
  {
   "cell_type": "code",
   "execution_count": null,
   "id": "62f04d71-44d4-4416-bf95-84b914ebadd4",
   "metadata": {},
   "outputs": [],
   "source": [
    "hours_played_df = recommend_with_users.groupby('app_id')[\"hours\"].mean().reset_index()\n",
    "hours_played_df.rename(columns={'hours':'mean_hours'},inplace=True)\n",
    "hours_played_df.head(5)"
   ]
  },
  {
   "cell_type": "code",
   "execution_count": null,
   "id": "6a1325e8-714d-47b3-8292-bcad837beb6a",
   "metadata": {},
   "outputs": [],
   "source": [
    "most_played_game_df = no_of_ppl_played_df.merge(hours_played_df,on='app_id')\n",
    "popular_games_df = most_played_game_df[most_played_game_df['no_of_ppl'] >= 10000].sort_values(\"mean_hours\",ascending=False).head(50)\n",
    "popular_games_df.merge(games,on=\"app_id\")"
   ]
  },
  {
   "cell_type": "code",
   "execution_count": null,
   "id": "56e03e38-5740-4141-a724-39e670f4fb69",
   "metadata": {},
   "outputs": [],
   "source": [
    "from sklearn.metrics.pairwise import cosine_similarity\n",
    "from sklearn.preprocessing import MinMaxScaler\n"
   ]
  },
  {
   "cell_type": "code",
   "execution_count": null,
   "id": "6e4bf735-e346-4da2-805b-4efbd8619d45",
   "metadata": {},
   "outputs": [],
   "source": [
    "scaler = MinMaxScaler()\n",
    "recommend_with_users['normalized_hours'] = scaler.fit_transform(recommend_with_users[['hours']])\n",
    "recommend_with_users.head(5)"
   ]
  },
  {
   "cell_type": "code",
   "execution_count": 1,
   "id": "e8490810-cf30-431f-87a9-8736ce61a1f5",
   "metadata": {},
   "outputs": [
    {
     "ename": "NameError",
     "evalue": "name 'recommend_with_users' is not defined",
     "output_type": "error",
     "traceback": [
      "\u001b[1;31m---------------------------------------------------------------------------\u001b[0m",
      "\u001b[1;31mNameError\u001b[0m                                 Traceback (most recent call last)",
      "Cell \u001b[1;32mIn[1], line 1\u001b[0m\n\u001b[1;32m----> 1\u001b[0m cols \u001b[38;5;241m=\u001b[39m \u001b[43mrecommend_with_users\u001b[49m[\u001b[38;5;124m'\u001b[39m\u001b[38;5;124muser_id\u001b[39m\u001b[38;5;124m'\u001b[39m]\u001b[38;5;241m.\u001b[39mvalues\n\u001b[0;32m      2\u001b[0m rows \u001b[38;5;241m=\u001b[39m recommend_with_users[\u001b[38;5;124m'\u001b[39m\u001b[38;5;124mapp_id\u001b[39m\u001b[38;5;124m'\u001b[39m]\u001b[38;5;241m.\u001b[39mvalues\n\u001b[0;32m      3\u001b[0m data \u001b[38;5;241m=\u001b[39m recommend_with_users[\u001b[38;5;124m'\u001b[39m\u001b[38;5;124mnormalized_hours\u001b[39m\u001b[38;5;124m'\u001b[39m]\u001b[38;5;241m.\u001b[39mvalues\n",
      "\u001b[1;31mNameError\u001b[0m: name 'recommend_with_users' is not defined"
     ]
    }
   ],
   "source": [
    "cols = recommend_with_users['user_id'].values\n",
    "rows = recommend_with_users['app_id'].values\n",
    "data = recommend_with_users['normalized_hours'].values"
   ]
  },
  {
   "cell_type": "code",
   "execution_count": 73,
   "id": "2916e1e9-3545-44dc-b759-0616781a5975",
   "metadata": {},
   "outputs": [],
   "source": [
    "from scipy.sparse import csr_matrix, coo_matrix"
   ]
  },
  {
   "cell_type": "code",
   "execution_count": null,
   "id": "50040484-76e9-437c-8839-5f0d2b753a27",
   "metadata": {},
   "outputs": [],
   "source": [
    "# Create a sparse matrix in COO format\n",
    "user_game_sparse = coo_matrix((data, (rows, cols)))\n",
    "\n",
    "\n"
   ]
  },
  {
   "cell_type": "code",
   "execution_count": null,
   "id": "b2229e25-1140-42d3-ba8c-13ea1f9f536b",
   "metadata": {},
   "outputs": [],
   "source": [
    "# Step 3: Convert COO matrix to CSR format for efficient arithmetic and matrix-vector operations\n",
    "user_game_sparse = user_game_sparse.tocsr()"
   ]
  },
  {
   "cell_type": "code",
   "execution_count": null,
   "id": "14751164-f3b5-46a1-ba0e-1a9fc6c1b6de",
   "metadata": {},
   "outputs": [],
   "source": [
    "# Step 4: Calculate cosine similarity between users based on normalized hours played\n",
    "user_similarity = cosine_similarity(user_game_sparse)"
   ]
  },
  {
   "cell_type": "code",
   "execution_count": null,
   "id": "d55e709c-0fc7-4a6c-8a6d-c7bc018ea74a",
   "metadata": {},
   "outputs": [],
   "source": []
  },
  {
   "cell_type": "code",
   "execution_count": null,
   "id": "8d447854-d869-4b1c-8d86-c82f2cde390d",
   "metadata": {},
   "outputs": [],
   "source": [
    "# Create a DataFrame for easier lookup\n",
    "user_similarity_df = pd.DataFrame(user_similarity, index=df['user_id'].unique(), columns=df['user_id'].unique())"
   ]
  }
 ],
 "metadata": {
  "kernelspec": {
   "display_name": "Python 3 (ipykernel)",
   "language": "python",
   "name": "python3"
  },
  "language_info": {
   "codemirror_mode": {
    "name": "ipython",
    "version": 3
   },
   "file_extension": ".py",
   "mimetype": "text/x-python",
   "name": "python",
   "nbconvert_exporter": "python",
   "pygments_lexer": "ipython3",
   "version": "3.12.5"
  }
 },
 "nbformat": 4,
 "nbformat_minor": 5
}
