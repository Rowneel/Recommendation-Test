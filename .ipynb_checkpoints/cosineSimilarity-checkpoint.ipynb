{
 "cells": [
  {
   "cell_type": "code",
   "execution_count": 2,
   "id": "ffbb8edb-35d4-4fdc-8a2b-e06abf7618f3",
   "metadata": {},
   "outputs": [],
   "source": [
    "import numpy as np \n",
    "import pandas as pd"
   ]
  },
  {
   "cell_type": "code",
   "execution_count": 3,
   "id": "383c55ee-c651-4263-ac34-0651c281bf49",
   "metadata": {},
   "outputs": [],
   "source": [
    "games = pd.read_csv('games.csv')\n",
    "recommendations = pd.read_csv('recommendations.csv')\n",
    "\n"
   ]
  },
  {
   "cell_type": "code",
   "execution_count": 4,
   "id": "7db10256-3adb-43cd-80f0-8d72cb19c883",
   "metadata": {},
   "outputs": [],
   "source": [
    "users = pd.read_csv('users.csv')"
   ]
  },
  {
   "cell_type": "code",
   "execution_count": 65,
   "id": "de95714d-d978-4d01-86df-0f7e1730de43",
   "metadata": {},
   "outputs": [
    {
     "data": {
      "text/plain": [
       "(14306064, 3)"
      ]
     },
     "execution_count": 65,
     "metadata": {},
     "output_type": "execute_result"
    }
   ],
   "source": [
    "users.shape"
   ]
  },
  {
   "cell_type": "code",
   "execution_count": 5,
   "id": "6a918e46-58b5-4aad-9098-7735426ce563",
   "metadata": {},
   "outputs": [
    {
     "data": {
      "text/html": [
       "<div>\n",
       "<style scoped>\n",
       "    .dataframe tbody tr th:only-of-type {\n",
       "        vertical-align: middle;\n",
       "    }\n",
       "\n",
       "    .dataframe tbody tr th {\n",
       "        vertical-align: top;\n",
       "    }\n",
       "\n",
       "    .dataframe thead th {\n",
       "        text-align: right;\n",
       "    }\n",
       "</style>\n",
       "<table border=\"1\" class=\"dataframe\">\n",
       "  <thead>\n",
       "    <tr style=\"text-align: right;\">\n",
       "      <th></th>\n",
       "      <th>app_id</th>\n",
       "      <th>title</th>\n",
       "    </tr>\n",
       "  </thead>\n",
       "  <tbody>\n",
       "    <tr>\n",
       "      <th>0</th>\n",
       "      <td>13500</td>\n",
       "      <td>Prince of Persia: Warrior Within™</td>\n",
       "    </tr>\n",
       "    <tr>\n",
       "      <th>1</th>\n",
       "      <td>22364</td>\n",
       "      <td>BRINK: Agents of Change</td>\n",
       "    </tr>\n",
       "    <tr>\n",
       "      <th>2</th>\n",
       "      <td>113020</td>\n",
       "      <td>Monaco: What's Yours Is Mine</td>\n",
       "    </tr>\n",
       "    <tr>\n",
       "      <th>3</th>\n",
       "      <td>226560</td>\n",
       "      <td>Escape Dead Island</td>\n",
       "    </tr>\n",
       "    <tr>\n",
       "      <th>4</th>\n",
       "      <td>249050</td>\n",
       "      <td>Dungeon of the ENDLESS™</td>\n",
       "    </tr>\n",
       "  </tbody>\n",
       "</table>\n",
       "</div>"
      ],
      "text/plain": [
       "   app_id                              title\n",
       "0   13500  Prince of Persia: Warrior Within™\n",
       "1   22364            BRINK: Agents of Change\n",
       "2  113020       Monaco: What's Yours Is Mine\n",
       "3  226560                 Escape Dead Island\n",
       "4  249050            Dungeon of the ENDLESS™"
      ]
     },
     "execution_count": 5,
     "metadata": {},
     "output_type": "execute_result"
    }
   ],
   "source": [
    "games = games[['app_id','title']]\n",
    "games.head(5)\n"
   ]
  },
  {
   "cell_type": "code",
   "execution_count": 6,
   "id": "8730f87e-1b88-4e32-a168-e6edda0415b4",
   "metadata": {},
   "outputs": [
    {
     "name": "stdout",
     "output_type": "stream",
     "text": [
      "['app_id', 'title']\n",
      "(50872, 2)\n"
     ]
    }
   ],
   "source": [
    "print(list(games.columns.values))\n",
    "print(games.shape)"
   ]
  },
  {
   "cell_type": "code",
   "execution_count": 7,
   "id": "5431df36-1b53-4f9b-8852-8417a85fe91a",
   "metadata": {},
   "outputs": [
    {
     "data": {
      "text/html": [
       "<div>\n",
       "<style scoped>\n",
       "    .dataframe tbody tr th:only-of-type {\n",
       "        vertical-align: middle;\n",
       "    }\n",
       "\n",
       "    .dataframe tbody tr th {\n",
       "        vertical-align: top;\n",
       "    }\n",
       "\n",
       "    .dataframe thead th {\n",
       "        text-align: right;\n",
       "    }\n",
       "</style>\n",
       "<table border=\"1\" class=\"dataframe\">\n",
       "  <thead>\n",
       "    <tr style=\"text-align: right;\">\n",
       "      <th></th>\n",
       "      <th>app_id</th>\n",
       "      <th>hours</th>\n",
       "      <th>user_id</th>\n",
       "    </tr>\n",
       "  </thead>\n",
       "  <tbody>\n",
       "    <tr>\n",
       "      <th>0</th>\n",
       "      <td>975370</td>\n",
       "      <td>36.3</td>\n",
       "      <td>51580</td>\n",
       "    </tr>\n",
       "    <tr>\n",
       "      <th>1</th>\n",
       "      <td>304390</td>\n",
       "      <td>11.5</td>\n",
       "      <td>2586</td>\n",
       "    </tr>\n",
       "    <tr>\n",
       "      <th>2</th>\n",
       "      <td>1085660</td>\n",
       "      <td>336.5</td>\n",
       "      <td>253880</td>\n",
       "    </tr>\n",
       "    <tr>\n",
       "      <th>3</th>\n",
       "      <td>703080</td>\n",
       "      <td>27.4</td>\n",
       "      <td>259432</td>\n",
       "    </tr>\n",
       "    <tr>\n",
       "      <th>4</th>\n",
       "      <td>526870</td>\n",
       "      <td>7.9</td>\n",
       "      <td>23869</td>\n",
       "    </tr>\n",
       "  </tbody>\n",
       "</table>\n",
       "</div>"
      ],
      "text/plain": [
       "    app_id  hours  user_id\n",
       "0   975370   36.3    51580\n",
       "1   304390   11.5     2586\n",
       "2  1085660  336.5   253880\n",
       "3   703080   27.4   259432\n",
       "4   526870    7.9    23869"
      ]
     },
     "execution_count": 7,
     "metadata": {},
     "output_type": "execute_result"
    }
   ],
   "source": [
    "recommendations = recommendations[[\"app_id\",\"hours\",\"user_id\"]]\n",
    "recommendations.head(5)"
   ]
  },
  {
   "cell_type": "code",
   "execution_count": 8,
   "id": "27189804-e6fa-46cc-afeb-076e8f3ad77a",
   "metadata": {},
   "outputs": [
    {
     "name": "stdout",
     "output_type": "stream",
     "text": [
      "['app_id', 'hours', 'user_id']\n",
      "(41154794, 3)\n"
     ]
    }
   ],
   "source": [
    "print(list(recommendations.columns.values))\n",
    "print(recommendations.shape)"
   ]
  },
  {
   "cell_type": "code",
   "execution_count": 9,
   "id": "3d3ec381-1432-4888-a5e8-00bdfebe17c1",
   "metadata": {},
   "outputs": [
    {
     "data": {
      "text/html": [
       "<div>\n",
       "<style scoped>\n",
       "    .dataframe tbody tr th:only-of-type {\n",
       "        vertical-align: middle;\n",
       "    }\n",
       "\n",
       "    .dataframe tbody tr th {\n",
       "        vertical-align: top;\n",
       "    }\n",
       "\n",
       "    .dataframe thead th {\n",
       "        text-align: right;\n",
       "    }\n",
       "</style>\n",
       "<table border=\"1\" class=\"dataframe\">\n",
       "  <thead>\n",
       "    <tr style=\"text-align: right;\">\n",
       "      <th></th>\n",
       "      <th>user_id</th>\n",
       "      <th>products</th>\n",
       "      <th>reviews</th>\n",
       "    </tr>\n",
       "  </thead>\n",
       "  <tbody>\n",
       "    <tr>\n",
       "      <th>0</th>\n",
       "      <td>7360263</td>\n",
       "      <td>359</td>\n",
       "      <td>0</td>\n",
       "    </tr>\n",
       "    <tr>\n",
       "      <th>1</th>\n",
       "      <td>14020781</td>\n",
       "      <td>156</td>\n",
       "      <td>1</td>\n",
       "    </tr>\n",
       "    <tr>\n",
       "      <th>2</th>\n",
       "      <td>8762579</td>\n",
       "      <td>329</td>\n",
       "      <td>4</td>\n",
       "    </tr>\n",
       "    <tr>\n",
       "      <th>3</th>\n",
       "      <td>4820647</td>\n",
       "      <td>176</td>\n",
       "      <td>4</td>\n",
       "    </tr>\n",
       "    <tr>\n",
       "      <th>4</th>\n",
       "      <td>5167327</td>\n",
       "      <td>98</td>\n",
       "      <td>2</td>\n",
       "    </tr>\n",
       "  </tbody>\n",
       "</table>\n",
       "</div>"
      ],
      "text/plain": [
       "    user_id  products  reviews\n",
       "0   7360263       359        0\n",
       "1  14020781       156        1\n",
       "2   8762579       329        4\n",
       "3   4820647       176        4\n",
       "4   5167327        98        2"
      ]
     },
     "execution_count": 9,
     "metadata": {},
     "output_type": "execute_result"
    }
   ],
   "source": [
    "users.head(5)"
   ]
  },
  {
   "cell_type": "code",
   "execution_count": 10,
   "id": "3838fdab-ea36-4884-8782-1699110c2be6",
   "metadata": {},
   "outputs": [
    {
     "name": "stdout",
     "output_type": "stream",
     "text": [
      "['user_id', 'products', 'reviews']\n"
     ]
    }
   ],
   "source": [
    "print(list(users.columns.values))"
   ]
  },
  {
   "cell_type": "code",
   "execution_count": 11,
   "id": "d523d92c-1994-4270-8def-375db7792582",
   "metadata": {},
   "outputs": [],
   "source": [
    "recommend_with_users = recommendations.merge(games,on='app_id')"
   ]
  },
  {
   "cell_type": "code",
   "execution_count": 12,
   "id": "03bd5c7d-d2b4-493f-ad83-879fadc34033",
   "metadata": {},
   "outputs": [
    {
     "data": {
      "text/html": [
       "<div>\n",
       "<style scoped>\n",
       "    .dataframe tbody tr th:only-of-type {\n",
       "        vertical-align: middle;\n",
       "    }\n",
       "\n",
       "    .dataframe tbody tr th {\n",
       "        vertical-align: top;\n",
       "    }\n",
       "\n",
       "    .dataframe thead th {\n",
       "        text-align: right;\n",
       "    }\n",
       "</style>\n",
       "<table border=\"1\" class=\"dataframe\">\n",
       "  <thead>\n",
       "    <tr style=\"text-align: right;\">\n",
       "      <th></th>\n",
       "      <th>app_id</th>\n",
       "      <th>hours</th>\n",
       "      <th>user_id</th>\n",
       "      <th>title</th>\n",
       "    </tr>\n",
       "  </thead>\n",
       "  <tbody>\n",
       "    <tr>\n",
       "      <th>0</th>\n",
       "      <td>975370</td>\n",
       "      <td>36.3</td>\n",
       "      <td>51580</td>\n",
       "      <td>Dwarf Fortress</td>\n",
       "    </tr>\n",
       "    <tr>\n",
       "      <th>1</th>\n",
       "      <td>304390</td>\n",
       "      <td>11.5</td>\n",
       "      <td>2586</td>\n",
       "      <td>FOR HONOR™</td>\n",
       "    </tr>\n",
       "    <tr>\n",
       "      <th>2</th>\n",
       "      <td>1085660</td>\n",
       "      <td>336.5</td>\n",
       "      <td>253880</td>\n",
       "      <td>Destiny 2</td>\n",
       "    </tr>\n",
       "    <tr>\n",
       "      <th>3</th>\n",
       "      <td>703080</td>\n",
       "      <td>27.4</td>\n",
       "      <td>259432</td>\n",
       "      <td>Planet Zoo</td>\n",
       "    </tr>\n",
       "    <tr>\n",
       "      <th>4</th>\n",
       "      <td>526870</td>\n",
       "      <td>7.9</td>\n",
       "      <td>23869</td>\n",
       "      <td>Satisfactory</td>\n",
       "    </tr>\n",
       "  </tbody>\n",
       "</table>\n",
       "</div>"
      ],
      "text/plain": [
       "    app_id  hours  user_id           title\n",
       "0   975370   36.3    51580  Dwarf Fortress\n",
       "1   304390   11.5     2586      FOR HONOR™\n",
       "2  1085660  336.5   253880       Destiny 2\n",
       "3   703080   27.4   259432      Planet Zoo\n",
       "4   526870    7.9    23869    Satisfactory"
      ]
     },
     "execution_count": 12,
     "metadata": {},
     "output_type": "execute_result"
    }
   ],
   "source": [
    "recommend_with_users.head(5)"
   ]
  },
  {
   "cell_type": "code",
   "execution_count": 13,
   "id": "93432ed3-8186-4eb7-ba7d-74c89ce7a55d",
   "metadata": {},
   "outputs": [
    {
     "data": {
      "text/plain": [
       "(41154794, 4)"
      ]
     },
     "execution_count": 13,
     "metadata": {},
     "output_type": "execute_result"
    }
   ],
   "source": [
    "recommend_with_users.shape"
   ]
  },
  {
   "cell_type": "code",
   "execution_count": 55,
   "id": "3cccf210-d260-443b-a03e-e38da9c2a0bb",
   "metadata": {},
   "outputs": [
    {
     "data": {
      "text/html": [
       "<div>\n",
       "<style scoped>\n",
       "    .dataframe tbody tr th:only-of-type {\n",
       "        vertical-align: middle;\n",
       "    }\n",
       "\n",
       "    .dataframe tbody tr th {\n",
       "        vertical-align: top;\n",
       "    }\n",
       "\n",
       "    .dataframe thead th {\n",
       "        text-align: right;\n",
       "    }\n",
       "</style>\n",
       "<table border=\"1\" class=\"dataframe\">\n",
       "  <thead>\n",
       "    <tr style=\"text-align: right;\">\n",
       "      <th></th>\n",
       "      <th>app_id</th>\n",
       "      <th>no_of_ppl</th>\n",
       "    </tr>\n",
       "  </thead>\n",
       "  <tbody>\n",
       "    <tr>\n",
       "      <th>0</th>\n",
       "      <td>10</td>\n",
       "      <td>41043</td>\n",
       "    </tr>\n",
       "    <tr>\n",
       "      <th>1</th>\n",
       "      <td>20</td>\n",
       "      <td>4284</td>\n",
       "    </tr>\n",
       "    <tr>\n",
       "      <th>2</th>\n",
       "      <td>30</td>\n",
       "      <td>4432</td>\n",
       "    </tr>\n",
       "    <tr>\n",
       "      <th>3</th>\n",
       "      <td>40</td>\n",
       "      <td>1610</td>\n",
       "    </tr>\n",
       "    <tr>\n",
       "      <th>4</th>\n",
       "      <td>50</td>\n",
       "      <td>9721</td>\n",
       "    </tr>\n",
       "  </tbody>\n",
       "</table>\n",
       "</div>"
      ],
      "text/plain": [
       "   app_id  no_of_ppl\n",
       "0      10      41043\n",
       "1      20       4284\n",
       "2      30       4432\n",
       "3      40       1610\n",
       "4      50       9721"
      ]
     },
     "execution_count": 55,
     "metadata": {},
     "output_type": "execute_result"
    }
   ],
   "source": [
    "no_of_ppl_played_df = recommend_with_users.groupby('app_id').count()['user_id'].reset_index()\n",
    "no_of_ppl_played_df.rename(columns={'user_id':'no_of_ppl'},inplace=True)\n",
    "no_of_ppl_played_df.head(5)"
   ]
  },
  {
   "cell_type": "code",
   "execution_count": 61,
   "id": "f4961bd7-e772-47a5-9e98-b6911ede3892",
   "metadata": {},
   "outputs": [
    {
     "data": {
      "text/html": [
       "<div>\n",
       "<style scoped>\n",
       "    .dataframe tbody tr th:only-of-type {\n",
       "        vertical-align: middle;\n",
       "    }\n",
       "\n",
       "    .dataframe tbody tr th {\n",
       "        vertical-align: top;\n",
       "    }\n",
       "\n",
       "    .dataframe thead th {\n",
       "        text-align: right;\n",
       "    }\n",
       "</style>\n",
       "<table border=\"1\" class=\"dataframe\">\n",
       "  <thead>\n",
       "    <tr style=\"text-align: right;\">\n",
       "      <th></th>\n",
       "      <th>user_id</th>\n",
       "      <th>rated_hours</th>\n",
       "    </tr>\n",
       "  </thead>\n",
       "  <tbody>\n",
       "    <tr>\n",
       "      <th>0</th>\n",
       "      <td>0</td>\n",
       "      <td>28</td>\n",
       "    </tr>\n",
       "    <tr>\n",
       "      <th>1</th>\n",
       "      <td>1</td>\n",
       "      <td>1</td>\n",
       "    </tr>\n",
       "    <tr>\n",
       "      <th>2</th>\n",
       "      <td>2</td>\n",
       "      <td>4</td>\n",
       "    </tr>\n",
       "    <tr>\n",
       "      <th>3</th>\n",
       "      <td>3</td>\n",
       "      <td>2</td>\n",
       "    </tr>\n",
       "    <tr>\n",
       "      <th>4</th>\n",
       "      <td>4</td>\n",
       "      <td>1</td>\n",
       "    </tr>\n",
       "  </tbody>\n",
       "</table>\n",
       "</div>"
      ],
      "text/plain": [
       "   user_id  rated_hours\n",
       "0        0           28\n",
       "1        1            1\n",
       "2        2            4\n",
       "3        3            2\n",
       "4        4            1"
      ]
     },
     "execution_count": 61,
     "metadata": {},
     "output_type": "execute_result"
    }
   ],
   "source": [
    "new_recommend_with_users = recommend_with_users.groupby('user_id').count()['hours'].reset_index()\n",
    "new_recommend_with_users.rename(columns={'hours':'rated_hours'},inplace=True)\n",
    "new_recommend_with_users.head(5)"
   ]
  },
  {
   "cell_type": "code",
   "execution_count": 62,
   "id": "73f81d0f-6265-4eaa-a3a6-dfd963f0c03a",
   "metadata": {},
   "outputs": [
    {
     "data": {
      "text/plain": [
       "(13781059, 2)"
      ]
     },
     "execution_count": 62,
     "metadata": {},
     "output_type": "execute_result"
    }
   ],
   "source": [
    "new_recommend_with_users.shape"
   ]
  },
  {
   "cell_type": "code",
   "execution_count": 63,
   "id": "140b3e01-bf18-4a37-9e7f-d4a2637ffdd6",
   "metadata": {},
   "outputs": [
    {
     "name": "stdout",
     "output_type": "stream",
     "text": [
      "1\n",
      "6045\n"
     ]
    }
   ],
   "source": [
    "print(new_recommend_with_users['rated_hours'].min())\n",
    "print(new_recommend_with_users['rated_hours'].max())"
   ]
  },
  {
   "cell_type": "code",
   "execution_count": 64,
   "id": "cfcf44db-fdcc-4822-8fef-56459dcd1254",
   "metadata": {},
   "outputs": [
    {
     "data": {
      "text/plain": [
       "np.float64(2.98633029580673)"
      ]
     },
     "execution_count": 64,
     "metadata": {},
     "output_type": "execute_result"
    }
   ],
   "source": [
    "new_recommend_with_users['rated_hours'].mean()"
   ]
  },
  {
   "cell_type": "code",
   "execution_count": 56,
   "id": "dddbb7e3-a0bc-462b-93d6-b99bf705c64b",
   "metadata": {},
   "outputs": [
    {
     "data": {
      "text/plain": [
       "np.float64(1094.2513693166711)"
      ]
     },
     "execution_count": 56,
     "metadata": {},
     "output_type": "execute_result"
    }
   ],
   "source": [
    "no_of_ppl_played_df['no_of_ppl'].mean()"
   ]
  },
  {
   "cell_type": "code",
   "execution_count": 15,
   "id": "d8714d10-9978-46c9-aae2-0186d9cd8081",
   "metadata": {},
   "outputs": [
    {
     "data": {
      "text/plain": [
       "(37610, 2)"
      ]
     },
     "execution_count": 15,
     "metadata": {},
     "output_type": "execute_result"
    }
   ],
   "source": [
    "no_of_ppl_played_df.shape"
   ]
  },
  {
   "cell_type": "code",
   "execution_count": 57,
   "id": "a39dc6de-cfa0-457f-a16b-0470c4cea137",
   "metadata": {},
   "outputs": [
    {
     "name": "stdout",
     "output_type": "stream",
     "text": [
      "1\n",
      "319492\n"
     ]
    }
   ],
   "source": [
    "print(no_of_ppl_played_df['no_of_ppl'].min())\n",
    "print(no_of_ppl_played_df['no_of_ppl'].max())"
   ]
  },
  {
   "cell_type": "code",
   "execution_count": null,
   "id": "fd23e91a-4356-420e-9082-3970a702cdd2",
   "metadata": {},
   "outputs": [],
   "source": []
  },
  {
   "cell_type": "code",
   "execution_count": 17,
   "id": "62f04d71-44d4-4416-bf95-84b914ebadd4",
   "metadata": {},
   "outputs": [
    {
     "data": {
      "text/html": [
       "<div>\n",
       "<style scoped>\n",
       "    .dataframe tbody tr th:only-of-type {\n",
       "        vertical-align: middle;\n",
       "    }\n",
       "\n",
       "    .dataframe tbody tr th {\n",
       "        vertical-align: top;\n",
       "    }\n",
       "\n",
       "    .dataframe thead th {\n",
       "        text-align: right;\n",
       "    }\n",
       "</style>\n",
       "<table border=\"1\" class=\"dataframe\">\n",
       "  <thead>\n",
       "    <tr style=\"text-align: right;\">\n",
       "      <th></th>\n",
       "      <th>app_id</th>\n",
       "      <th>mean_hours</th>\n",
       "    </tr>\n",
       "  </thead>\n",
       "  <tbody>\n",
       "    <tr>\n",
       "      <th>0</th>\n",
       "      <td>10</td>\n",
       "      <td>245.776802</td>\n",
       "    </tr>\n",
       "    <tr>\n",
       "      <th>1</th>\n",
       "      <td>20</td>\n",
       "      <td>35.180766</td>\n",
       "    </tr>\n",
       "    <tr>\n",
       "      <th>2</th>\n",
       "      <td>30</td>\n",
       "      <td>78.345194</td>\n",
       "    </tr>\n",
       "    <tr>\n",
       "      <th>3</th>\n",
       "      <td>40</td>\n",
       "      <td>29.885466</td>\n",
       "    </tr>\n",
       "    <tr>\n",
       "      <th>4</th>\n",
       "      <td>50</td>\n",
       "      <td>18.470209</td>\n",
       "    </tr>\n",
       "  </tbody>\n",
       "</table>\n",
       "</div>"
      ],
      "text/plain": [
       "   app_id  mean_hours\n",
       "0      10  245.776802\n",
       "1      20   35.180766\n",
       "2      30   78.345194\n",
       "3      40   29.885466\n",
       "4      50   18.470209"
      ]
     },
     "execution_count": 17,
     "metadata": {},
     "output_type": "execute_result"
    }
   ],
   "source": [
    "hours_played_df = recommend_with_users.groupby('app_id')[\"hours\"].mean().reset_index()\n",
    "hours_played_df.rename(columns={'hours':'mean_hours'},inplace=True)\n",
    "hours_played_df.head(5)"
   ]
  },
  {
   "cell_type": "code",
   "execution_count": 18,
   "id": "6a1325e8-714d-47b3-8292-bcad837beb6a",
   "metadata": {},
   "outputs": [
    {
     "data": {
      "text/html": [
       "<div>\n",
       "<style scoped>\n",
       "    .dataframe tbody tr th:only-of-type {\n",
       "        vertical-align: middle;\n",
       "    }\n",
       "\n",
       "    .dataframe tbody tr th {\n",
       "        vertical-align: top;\n",
       "    }\n",
       "\n",
       "    .dataframe thead th {\n",
       "        text-align: right;\n",
       "    }\n",
       "</style>\n",
       "<table border=\"1\" class=\"dataframe\">\n",
       "  <thead>\n",
       "    <tr style=\"text-align: right;\">\n",
       "      <th></th>\n",
       "      <th>app_id</th>\n",
       "      <th>no_of_ppl</th>\n",
       "      <th>mean_hours</th>\n",
       "      <th>title</th>\n",
       "    </tr>\n",
       "  </thead>\n",
       "  <tbody>\n",
       "    <tr>\n",
       "      <th>0</th>\n",
       "      <td>570</td>\n",
       "      <td>216914</td>\n",
       "      <td>429.076894</td>\n",
       "      <td>Dota 2</td>\n",
       "    </tr>\n",
       "    <tr>\n",
       "      <th>1</th>\n",
       "      <td>730</td>\n",
       "      <td>219737</td>\n",
       "      <td>428.968755</td>\n",
       "      <td>Counter-Strike: Global Offensive</td>\n",
       "    </tr>\n",
       "    <tr>\n",
       "      <th>2</th>\n",
       "      <td>236850</td>\n",
       "      <td>44974</td>\n",
       "      <td>396.720123</td>\n",
       "      <td>Europa Universalis IV</td>\n",
       "    </tr>\n",
       "    <tr>\n",
       "      <th>3</th>\n",
       "      <td>39210</td>\n",
       "      <td>52488</td>\n",
       "      <td>373.633930</td>\n",
       "      <td>FINAL FANTASY XIV Online</td>\n",
       "    </tr>\n",
       "    <tr>\n",
       "      <th>4</th>\n",
       "      <td>394360</td>\n",
       "      <td>143187</td>\n",
       "      <td>370.750355</td>\n",
       "      <td>Hearts of Iron IV</td>\n",
       "    </tr>\n",
       "    <tr>\n",
       "      <th>5</th>\n",
       "      <td>230410</td>\n",
       "      <td>127812</td>\n",
       "      <td>363.425776</td>\n",
       "      <td>Warframe</td>\n",
       "    </tr>\n",
       "    <tr>\n",
       "      <th>6</th>\n",
       "      <td>359550</td>\n",
       "      <td>189603</td>\n",
       "      <td>360.995466</td>\n",
       "      <td>Tom Clancy's Rainbow Six® Siege</td>\n",
       "    </tr>\n",
       "    <tr>\n",
       "      <th>7</th>\n",
       "      <td>381210</td>\n",
       "      <td>80582</td>\n",
       "      <td>346.990193</td>\n",
       "      <td>Dead by Daylight</td>\n",
       "    </tr>\n",
       "    <tr>\n",
       "      <th>8</th>\n",
       "      <td>252490</td>\n",
       "      <td>270684</td>\n",
       "      <td>343.367191</td>\n",
       "      <td>Rust</td>\n",
       "    </tr>\n",
       "    <tr>\n",
       "      <th>9</th>\n",
       "      <td>594570</td>\n",
       "      <td>44767</td>\n",
       "      <td>337.972104</td>\n",
       "      <td>Total War: WARHAMMER II</td>\n",
       "    </tr>\n",
       "    <tr>\n",
       "      <th>10</th>\n",
       "      <td>1085660</td>\n",
       "      <td>185527</td>\n",
       "      <td>336.900682</td>\n",
       "      <td>Destiny 2</td>\n",
       "    </tr>\n",
       "    <tr>\n",
       "      <th>11</th>\n",
       "      <td>294100</td>\n",
       "      <td>100999</td>\n",
       "      <td>330.242661</td>\n",
       "      <td>RimWorld</td>\n",
       "    </tr>\n",
       "    <tr>\n",
       "      <th>12</th>\n",
       "      <td>281990</td>\n",
       "      <td>15009</td>\n",
       "      <td>320.936631</td>\n",
       "      <td>Stellaris</td>\n",
       "    </tr>\n",
       "    <tr>\n",
       "      <th>13</th>\n",
       "      <td>440</td>\n",
       "      <td>319492</td>\n",
       "      <td>318.662056</td>\n",
       "      <td>Team Fortress 2</td>\n",
       "    </tr>\n",
       "    <tr>\n",
       "      <th>14</th>\n",
       "      <td>238960</td>\n",
       "      <td>145748</td>\n",
       "      <td>315.682312</td>\n",
       "      <td>Path of Exile</td>\n",
       "    </tr>\n",
       "    <tr>\n",
       "      <th>15</th>\n",
       "      <td>236390</td>\n",
       "      <td>80609</td>\n",
       "      <td>314.355311</td>\n",
       "      <td>War Thunder</td>\n",
       "    </tr>\n",
       "    <tr>\n",
       "      <th>16</th>\n",
       "      <td>578080</td>\n",
       "      <td>97733</td>\n",
       "      <td>313.816103</td>\n",
       "      <td>PUBG: BATTLEGROUNDS</td>\n",
       "    </tr>\n",
       "    <tr>\n",
       "      <th>17</th>\n",
       "      <td>582010</td>\n",
       "      <td>54077</td>\n",
       "      <td>310.121016</td>\n",
       "      <td>Monster Hunter: World</td>\n",
       "    </tr>\n",
       "    <tr>\n",
       "      <th>18</th>\n",
       "      <td>107410</td>\n",
       "      <td>135321</td>\n",
       "      <td>309.296801</td>\n",
       "      <td>Arma 3</td>\n",
       "    </tr>\n",
       "    <tr>\n",
       "      <th>19</th>\n",
       "      <td>4000</td>\n",
       "      <td>137199</td>\n",
       "      <td>303.920991</td>\n",
       "      <td>Garry's Mod</td>\n",
       "    </tr>\n",
       "    <tr>\n",
       "      <th>20</th>\n",
       "      <td>250900</td>\n",
       "      <td>114002</td>\n",
       "      <td>297.490025</td>\n",
       "      <td>The Binding of Isaac: Rebirth</td>\n",
       "    </tr>\n",
       "    <tr>\n",
       "      <th>21</th>\n",
       "      <td>346110</td>\n",
       "      <td>159736</td>\n",
       "      <td>292.484846</td>\n",
       "      <td>ARK: Survival Evolved</td>\n",
       "    </tr>\n",
       "    <tr>\n",
       "      <th>22</th>\n",
       "      <td>203770</td>\n",
       "      <td>56621</td>\n",
       "      <td>291.940254</td>\n",
       "      <td>Crusader Kings II</td>\n",
       "    </tr>\n",
       "    <tr>\n",
       "      <th>23</th>\n",
       "      <td>105600</td>\n",
       "      <td>123071</td>\n",
       "      <td>287.988672</td>\n",
       "      <td>Terraria</td>\n",
       "    </tr>\n",
       "    <tr>\n",
       "      <th>24</th>\n",
       "      <td>386360</td>\n",
       "      <td>64689</td>\n",
       "      <td>282.060343</td>\n",
       "      <td>SMITE®</td>\n",
       "    </tr>\n",
       "    <tr>\n",
       "      <th>25</th>\n",
       "      <td>1418630</td>\n",
       "      <td>30806</td>\n",
       "      <td>281.945741</td>\n",
       "      <td>Dread Hunger</td>\n",
       "    </tr>\n",
       "    <tr>\n",
       "      <th>26</th>\n",
       "      <td>271590</td>\n",
       "      <td>163909</td>\n",
       "      <td>281.683095</td>\n",
       "      <td>Grand Theft Auto V</td>\n",
       "    </tr>\n",
       "    <tr>\n",
       "      <th>27</th>\n",
       "      <td>1454400</td>\n",
       "      <td>25431</td>\n",
       "      <td>280.220440</td>\n",
       "      <td>Cookie Clicker</td>\n",
       "    </tr>\n",
       "    <tr>\n",
       "      <th>28</th>\n",
       "      <td>629520</td>\n",
       "      <td>34812</td>\n",
       "      <td>273.324247</td>\n",
       "      <td>Soundpad</td>\n",
       "    </tr>\n",
       "    <tr>\n",
       "      <th>29</th>\n",
       "      <td>1172470</td>\n",
       "      <td>102748</td>\n",
       "      <td>271.216470</td>\n",
       "      <td>Apex Legends™</td>\n",
       "    </tr>\n",
       "    <tr>\n",
       "      <th>30</th>\n",
       "      <td>221100</td>\n",
       "      <td>94365</td>\n",
       "      <td>260.876133</td>\n",
       "      <td>DayZ</td>\n",
       "    </tr>\n",
       "    <tr>\n",
       "      <th>31</th>\n",
       "      <td>306130</td>\n",
       "      <td>73938</td>\n",
       "      <td>260.042995</td>\n",
       "      <td>The Elder Scrolls® Online</td>\n",
       "    </tr>\n",
       "    <tr>\n",
       "      <th>32</th>\n",
       "      <td>594650</td>\n",
       "      <td>81958</td>\n",
       "      <td>259.473184</td>\n",
       "      <td>Hunt: Showdown</td>\n",
       "    </tr>\n",
       "    <tr>\n",
       "      <th>33</th>\n",
       "      <td>440900</td>\n",
       "      <td>49671</td>\n",
       "      <td>258.016338</td>\n",
       "      <td>Conan Exiles</td>\n",
       "    </tr>\n",
       "    <tr>\n",
       "      <th>34</th>\n",
       "      <td>1506830</td>\n",
       "      <td>41872</td>\n",
       "      <td>257.990065</td>\n",
       "      <td>FIFA 22</td>\n",
       "    </tr>\n",
       "    <tr>\n",
       "      <th>35</th>\n",
       "      <td>427520</td>\n",
       "      <td>112195</td>\n",
       "      <td>255.810663</td>\n",
       "      <td>Factorio</td>\n",
       "    </tr>\n",
       "    <tr>\n",
       "      <th>36</th>\n",
       "      <td>359320</td>\n",
       "      <td>68123</td>\n",
       "      <td>255.305425</td>\n",
       "      <td>Elite Dangerous</td>\n",
       "    </tr>\n",
       "    <tr>\n",
       "      <th>37</th>\n",
       "      <td>787860</td>\n",
       "      <td>47516</td>\n",
       "      <td>251.620614</td>\n",
       "      <td>Farming Simulator 19</td>\n",
       "    </tr>\n",
       "    <tr>\n",
       "      <th>38</th>\n",
       "      <td>8930</td>\n",
       "      <td>70794</td>\n",
       "      <td>249.891837</td>\n",
       "      <td>Sid Meier's Civilization® V</td>\n",
       "    </tr>\n",
       "    <tr>\n",
       "      <th>39</th>\n",
       "      <td>214950</td>\n",
       "      <td>27163</td>\n",
       "      <td>249.383603</td>\n",
       "      <td>Total War: ROME II - Emperor Edition</td>\n",
       "    </tr>\n",
       "    <tr>\n",
       "      <th>40</th>\n",
       "      <td>9900</td>\n",
       "      <td>14749</td>\n",
       "      <td>249.112462</td>\n",
       "      <td>Star Trek Online</td>\n",
       "    </tr>\n",
       "    <tr>\n",
       "      <th>41</th>\n",
       "      <td>10</td>\n",
       "      <td>41043</td>\n",
       "      <td>245.776802</td>\n",
       "      <td>Counter-Strike</td>\n",
       "    </tr>\n",
       "    <tr>\n",
       "      <th>42</th>\n",
       "      <td>392160</td>\n",
       "      <td>10565</td>\n",
       "      <td>245.338656</td>\n",
       "      <td>X4: Foundations</td>\n",
       "    </tr>\n",
       "    <tr>\n",
       "      <th>43</th>\n",
       "      <td>383120</td>\n",
       "      <td>22387</td>\n",
       "      <td>244.991120</td>\n",
       "      <td>Empyrion - Galactic Survival</td>\n",
       "    </tr>\n",
       "    <tr>\n",
       "      <th>44</th>\n",
       "      <td>365360</td>\n",
       "      <td>13682</td>\n",
       "      <td>240.810927</td>\n",
       "      <td>Battle Brothers</td>\n",
       "    </tr>\n",
       "    <tr>\n",
       "      <th>45</th>\n",
       "      <td>1343400</td>\n",
       "      <td>11723</td>\n",
       "      <td>239.443965</td>\n",
       "      <td>RuneScape ®</td>\n",
       "    </tr>\n",
       "    <tr>\n",
       "      <th>46</th>\n",
       "      <td>1248130</td>\n",
       "      <td>27656</td>\n",
       "      <td>238.028200</td>\n",
       "      <td>Farming Simulator 22</td>\n",
       "    </tr>\n",
       "    <tr>\n",
       "      <th>47</th>\n",
       "      <td>376210</td>\n",
       "      <td>45744</td>\n",
       "      <td>235.444589</td>\n",
       "      <td>The Isle</td>\n",
       "    </tr>\n",
       "    <tr>\n",
       "      <th>48</th>\n",
       "      <td>582660</td>\n",
       "      <td>50712</td>\n",
       "      <td>234.747701</td>\n",
       "      <td>Black Desert</td>\n",
       "    </tr>\n",
       "    <tr>\n",
       "      <th>49</th>\n",
       "      <td>244850</td>\n",
       "      <td>97026</td>\n",
       "      <td>233.413821</td>\n",
       "      <td>Space Engineers</td>\n",
       "    </tr>\n",
       "  </tbody>\n",
       "</table>\n",
       "</div>"
      ],
      "text/plain": [
       "     app_id  no_of_ppl  mean_hours                                 title\n",
       "0       570     216914  429.076894                                Dota 2\n",
       "1       730     219737  428.968755      Counter-Strike: Global Offensive\n",
       "2    236850      44974  396.720123                 Europa Universalis IV\n",
       "3     39210      52488  373.633930              FINAL FANTASY XIV Online\n",
       "4    394360     143187  370.750355                     Hearts of Iron IV\n",
       "5    230410     127812  363.425776                              Warframe\n",
       "6    359550     189603  360.995466       Tom Clancy's Rainbow Six® Siege\n",
       "7    381210      80582  346.990193                      Dead by Daylight\n",
       "8    252490     270684  343.367191                                  Rust\n",
       "9    594570      44767  337.972104               Total War: WARHAMMER II\n",
       "10  1085660     185527  336.900682                             Destiny 2\n",
       "11   294100     100999  330.242661                              RimWorld\n",
       "12   281990      15009  320.936631                             Stellaris\n",
       "13      440     319492  318.662056                       Team Fortress 2\n",
       "14   238960     145748  315.682312                         Path of Exile\n",
       "15   236390      80609  314.355311                           War Thunder\n",
       "16   578080      97733  313.816103                   PUBG: BATTLEGROUNDS\n",
       "17   582010      54077  310.121016                 Monster Hunter: World\n",
       "18   107410     135321  309.296801                                Arma 3\n",
       "19     4000     137199  303.920991                           Garry's Mod\n",
       "20   250900     114002  297.490025         The Binding of Isaac: Rebirth\n",
       "21   346110     159736  292.484846                 ARK: Survival Evolved\n",
       "22   203770      56621  291.940254                     Crusader Kings II\n",
       "23   105600     123071  287.988672                              Terraria\n",
       "24   386360      64689  282.060343                                SMITE®\n",
       "25  1418630      30806  281.945741                          Dread Hunger\n",
       "26   271590     163909  281.683095                    Grand Theft Auto V\n",
       "27  1454400      25431  280.220440                        Cookie Clicker\n",
       "28   629520      34812  273.324247                              Soundpad\n",
       "29  1172470     102748  271.216470                         Apex Legends™\n",
       "30   221100      94365  260.876133                                  DayZ\n",
       "31   306130      73938  260.042995             The Elder Scrolls® Online\n",
       "32   594650      81958  259.473184                        Hunt: Showdown\n",
       "33   440900      49671  258.016338                          Conan Exiles\n",
       "34  1506830      41872  257.990065                               FIFA 22\n",
       "35   427520     112195  255.810663                              Factorio\n",
       "36   359320      68123  255.305425                       Elite Dangerous\n",
       "37   787860      47516  251.620614                  Farming Simulator 19\n",
       "38     8930      70794  249.891837           Sid Meier's Civilization® V\n",
       "39   214950      27163  249.383603  Total War: ROME II - Emperor Edition\n",
       "40     9900      14749  249.112462                      Star Trek Online\n",
       "41       10      41043  245.776802                        Counter-Strike\n",
       "42   392160      10565  245.338656                       X4: Foundations\n",
       "43   383120      22387  244.991120          Empyrion - Galactic Survival\n",
       "44   365360      13682  240.810927                       Battle Brothers\n",
       "45  1343400      11723  239.443965                           RuneScape ®\n",
       "46  1248130      27656  238.028200                  Farming Simulator 22\n",
       "47   376210      45744  235.444589                              The Isle\n",
       "48   582660      50712  234.747701                          Black Desert\n",
       "49   244850      97026  233.413821                       Space Engineers"
      ]
     },
     "execution_count": 18,
     "metadata": {},
     "output_type": "execute_result"
    }
   ],
   "source": [
    "most_played_game_df = no_of_ppl_played_df.merge(hours_played_df,on='app_id')\n",
    "popular_games_df = most_played_game_df[most_played_game_df['no_of_ppl'] >= 10000].sort_values(\"mean_hours\",ascending=False).head(50)\n",
    "popular_games_df.merge(games,on=\"app_id\")"
   ]
  },
  {
   "cell_type": "code",
   "execution_count": 19,
   "id": "56e03e38-5740-4141-a724-39e670f4fb69",
   "metadata": {},
   "outputs": [],
   "source": [
    "from sklearn.metrics.pairwise import cosine_similarity\n",
    "from sklearn.preprocessing import MinMaxScaler\n"
   ]
  },
  {
   "cell_type": "code",
   "execution_count": 20,
   "id": "6e4bf735-e346-4da2-805b-4efbd8619d45",
   "metadata": {},
   "outputs": [
    {
     "data": {
      "text/html": [
       "<div>\n",
       "<style scoped>\n",
       "    .dataframe tbody tr th:only-of-type {\n",
       "        vertical-align: middle;\n",
       "    }\n",
       "\n",
       "    .dataframe tbody tr th {\n",
       "        vertical-align: top;\n",
       "    }\n",
       "\n",
       "    .dataframe thead th {\n",
       "        text-align: right;\n",
       "    }\n",
       "</style>\n",
       "<table border=\"1\" class=\"dataframe\">\n",
       "  <thead>\n",
       "    <tr style=\"text-align: right;\">\n",
       "      <th></th>\n",
       "      <th>app_id</th>\n",
       "      <th>hours</th>\n",
       "      <th>user_id</th>\n",
       "      <th>title</th>\n",
       "      <th>normalized_hours</th>\n",
       "    </tr>\n",
       "  </thead>\n",
       "  <tbody>\n",
       "    <tr>\n",
       "      <th>0</th>\n",
       "      <td>975370</td>\n",
       "      <td>36.3</td>\n",
       "      <td>51580</td>\n",
       "      <td>Dwarf Fortress</td>\n",
       "      <td>0.0363</td>\n",
       "    </tr>\n",
       "    <tr>\n",
       "      <th>1</th>\n",
       "      <td>304390</td>\n",
       "      <td>11.5</td>\n",
       "      <td>2586</td>\n",
       "      <td>FOR HONOR™</td>\n",
       "      <td>0.0115</td>\n",
       "    </tr>\n",
       "    <tr>\n",
       "      <th>2</th>\n",
       "      <td>1085660</td>\n",
       "      <td>336.5</td>\n",
       "      <td>253880</td>\n",
       "      <td>Destiny 2</td>\n",
       "      <td>0.3365</td>\n",
       "    </tr>\n",
       "    <tr>\n",
       "      <th>3</th>\n",
       "      <td>703080</td>\n",
       "      <td>27.4</td>\n",
       "      <td>259432</td>\n",
       "      <td>Planet Zoo</td>\n",
       "      <td>0.0274</td>\n",
       "    </tr>\n",
       "    <tr>\n",
       "      <th>4</th>\n",
       "      <td>526870</td>\n",
       "      <td>7.9</td>\n",
       "      <td>23869</td>\n",
       "      <td>Satisfactory</td>\n",
       "      <td>0.0079</td>\n",
       "    </tr>\n",
       "  </tbody>\n",
       "</table>\n",
       "</div>"
      ],
      "text/plain": [
       "    app_id  hours  user_id           title  normalized_hours\n",
       "0   975370   36.3    51580  Dwarf Fortress            0.0363\n",
       "1   304390   11.5     2586      FOR HONOR™            0.0115\n",
       "2  1085660  336.5   253880       Destiny 2            0.3365\n",
       "3   703080   27.4   259432      Planet Zoo            0.0274\n",
       "4   526870    7.9    23869    Satisfactory            0.0079"
      ]
     },
     "execution_count": 20,
     "metadata": {},
     "output_type": "execute_result"
    }
   ],
   "source": [
    "scaler = MinMaxScaler()\n",
    "recommend_with_users['normalized_hours'] = scaler.fit_transform(recommend_with_users[['hours']])\n",
    "recommend_with_users.head(5)"
   ]
  },
  {
   "cell_type": "code",
   "execution_count": 49,
   "id": "598d3a11-675c-4d67-978c-b7984f83ff31",
   "metadata": {},
   "outputs": [
    {
     "data": {
      "text/plain": [
       "(100000, 5)"
      ]
     },
     "execution_count": 49,
     "metadata": {},
     "output_type": "execute_result"
    }
   ],
   "source": [
    "# Step 1: Randomly sample a fraction of users or games\n",
    "# You can sample either users or games based on your use case.\n",
    "sample_size = 100000  # Number of samples you want to take\n",
    "sampled_df = recommend_with_users.sample(n=sample_size, random_state=42)\n",
    "sampled_df.shape"
   ]
  },
  {
   "cell_type": "code",
   "execution_count": 50,
   "id": "e8490810-cf30-431f-87a9-8736ce61a1f5",
   "metadata": {},
   "outputs": [],
   "source": [
    "cols = sampled_df['user_id'].values\n",
    "rows = sampled_df['app_id'].values\n",
    "data = sampled_df['normalized_hours'].values"
   ]
  },
  {
   "cell_type": "code",
   "execution_count": 51,
   "id": "2916e1e9-3545-44dc-b759-0616781a5975",
   "metadata": {},
   "outputs": [],
   "source": [
    "from scipy.sparse import csr_matrix, coo_matrix"
   ]
  },
  {
   "cell_type": "code",
   "execution_count": 52,
   "id": "50040484-76e9-437c-8839-5f0d2b753a27",
   "metadata": {},
   "outputs": [],
   "source": [
    "# Create a sparse matrix in COO format\n",
    "user_game_sparse = coo_matrix((data, (rows, cols)))\n",
    "\n",
    "\n"
   ]
  },
  {
   "cell_type": "code",
   "execution_count": 53,
   "id": "b2229e25-1140-42d3-ba8c-13ea1f9f536b",
   "metadata": {},
   "outputs": [],
   "source": [
    "# Step 3: Convert COO matrix to CSR format for efficient arithmetic and matrix-vector operations\n",
    "user_game_sparse = user_game_sparse.tocsr()"
   ]
  },
  {
   "cell_type": "code",
   "execution_count": 54,
   "id": "14751164-f3b5-46a1-ba0e-1a9fc6c1b6de",
   "metadata": {},
   "outputs": [
    {
     "ename": "MemoryError",
     "evalue": "Unable to allocate 36.1 TiB for an array with shape (2228891, 2228891) and data type float64",
     "output_type": "error",
     "traceback": [
      "\u001b[1;31m---------------------------------------------------------------------------\u001b[0m",
      "\u001b[1;31mMemoryError\u001b[0m                               Traceback (most recent call last)",
      "Cell \u001b[1;32mIn[54], line 2\u001b[0m\n\u001b[0;32m      1\u001b[0m \u001b[38;5;66;03m# Step 4: Calculate cosine similarity between users based on normalized hours played\u001b[39;00m\n\u001b[1;32m----> 2\u001b[0m user_similarity \u001b[38;5;241m=\u001b[39m \u001b[43mcosine_similarity\u001b[49m\u001b[43m(\u001b[49m\u001b[43muser_game_sparse\u001b[49m\u001b[43m)\u001b[49m\n",
      "File \u001b[1;32mG:\\Project(7th Sem)\\Recommendation-Test\\venv\\Lib\\site-packages\\sklearn\\utils\\_param_validation.py:213\u001b[0m, in \u001b[0;36mvalidate_params.<locals>.decorator.<locals>.wrapper\u001b[1;34m(*args, **kwargs)\u001b[0m\n\u001b[0;32m    207\u001b[0m \u001b[38;5;28;01mtry\u001b[39;00m:\n\u001b[0;32m    208\u001b[0m     \u001b[38;5;28;01mwith\u001b[39;00m config_context(\n\u001b[0;32m    209\u001b[0m         skip_parameter_validation\u001b[38;5;241m=\u001b[39m(\n\u001b[0;32m    210\u001b[0m             prefer_skip_nested_validation \u001b[38;5;129;01mor\u001b[39;00m global_skip_validation\n\u001b[0;32m    211\u001b[0m         )\n\u001b[0;32m    212\u001b[0m     ):\n\u001b[1;32m--> 213\u001b[0m         \u001b[38;5;28;01mreturn\u001b[39;00m \u001b[43mfunc\u001b[49m\u001b[43m(\u001b[49m\u001b[38;5;241;43m*\u001b[39;49m\u001b[43margs\u001b[49m\u001b[43m,\u001b[49m\u001b[43m \u001b[49m\u001b[38;5;241;43m*\u001b[39;49m\u001b[38;5;241;43m*\u001b[39;49m\u001b[43mkwargs\u001b[49m\u001b[43m)\u001b[49m\n\u001b[0;32m    214\u001b[0m \u001b[38;5;28;01mexcept\u001b[39;00m InvalidParameterError \u001b[38;5;28;01mas\u001b[39;00m e:\n\u001b[0;32m    215\u001b[0m     \u001b[38;5;66;03m# When the function is just a wrapper around an estimator, we allow\u001b[39;00m\n\u001b[0;32m    216\u001b[0m     \u001b[38;5;66;03m# the function to delegate validation to the estimator, but we replace\u001b[39;00m\n\u001b[0;32m    217\u001b[0m     \u001b[38;5;66;03m# the name of the estimator by the name of the function in the error\u001b[39;00m\n\u001b[0;32m    218\u001b[0m     \u001b[38;5;66;03m# message to avoid confusion.\u001b[39;00m\n\u001b[0;32m    219\u001b[0m     msg \u001b[38;5;241m=\u001b[39m re\u001b[38;5;241m.\u001b[39msub(\n\u001b[0;32m    220\u001b[0m         \u001b[38;5;124mr\u001b[39m\u001b[38;5;124m\"\u001b[39m\u001b[38;5;124mparameter of \u001b[39m\u001b[38;5;124m\\\u001b[39m\u001b[38;5;124mw+ must be\u001b[39m\u001b[38;5;124m\"\u001b[39m,\n\u001b[0;32m    221\u001b[0m         \u001b[38;5;124mf\u001b[39m\u001b[38;5;124m\"\u001b[39m\u001b[38;5;124mparameter of \u001b[39m\u001b[38;5;132;01m{\u001b[39;00mfunc\u001b[38;5;241m.\u001b[39m\u001b[38;5;18m__qualname__\u001b[39m\u001b[38;5;132;01m}\u001b[39;00m\u001b[38;5;124m must be\u001b[39m\u001b[38;5;124m\"\u001b[39m,\n\u001b[0;32m    222\u001b[0m         \u001b[38;5;28mstr\u001b[39m(e),\n\u001b[0;32m    223\u001b[0m     )\n",
      "File \u001b[1;32mG:\\Project(7th Sem)\\Recommendation-Test\\venv\\Lib\\site-packages\\sklearn\\metrics\\pairwise.py:1687\u001b[0m, in \u001b[0;36mcosine_similarity\u001b[1;34m(X, Y, dense_output)\u001b[0m\n\u001b[0;32m   1684\u001b[0m \u001b[38;5;28;01melse\u001b[39;00m:\n\u001b[0;32m   1685\u001b[0m     Y_normalized \u001b[38;5;241m=\u001b[39m normalize(Y, copy\u001b[38;5;241m=\u001b[39m\u001b[38;5;28;01mTrue\u001b[39;00m)\n\u001b[1;32m-> 1687\u001b[0m K \u001b[38;5;241m=\u001b[39m \u001b[43msafe_sparse_dot\u001b[49m\u001b[43m(\u001b[49m\u001b[43mX_normalized\u001b[49m\u001b[43m,\u001b[49m\u001b[43m \u001b[49m\u001b[43mY_normalized\u001b[49m\u001b[38;5;241;43m.\u001b[39;49m\u001b[43mT\u001b[49m\u001b[43m,\u001b[49m\u001b[43m \u001b[49m\u001b[43mdense_output\u001b[49m\u001b[38;5;241;43m=\u001b[39;49m\u001b[43mdense_output\u001b[49m\u001b[43m)\u001b[49m\n\u001b[0;32m   1689\u001b[0m \u001b[38;5;28;01mreturn\u001b[39;00m K\n",
      "File \u001b[1;32mG:\\Project(7th Sem)\\Recommendation-Test\\venv\\Lib\\site-packages\\sklearn\\utils\\extmath.py:213\u001b[0m, in \u001b[0;36msafe_sparse_dot\u001b[1;34m(a, b, dense_output)\u001b[0m\n\u001b[0;32m    205\u001b[0m     ret \u001b[38;5;241m=\u001b[39m a \u001b[38;5;241m@\u001b[39m b\n\u001b[0;32m    207\u001b[0m \u001b[38;5;28;01mif\u001b[39;00m (\n\u001b[0;32m    208\u001b[0m     sparse\u001b[38;5;241m.\u001b[39missparse(a)\n\u001b[0;32m    209\u001b[0m     \u001b[38;5;129;01mand\u001b[39;00m sparse\u001b[38;5;241m.\u001b[39missparse(b)\n\u001b[0;32m    210\u001b[0m     \u001b[38;5;129;01mand\u001b[39;00m dense_output\n\u001b[0;32m    211\u001b[0m     \u001b[38;5;129;01mand\u001b[39;00m \u001b[38;5;28mhasattr\u001b[39m(ret, \u001b[38;5;124m\"\u001b[39m\u001b[38;5;124mtoarray\u001b[39m\u001b[38;5;124m\"\u001b[39m)\n\u001b[0;32m    212\u001b[0m ):\n\u001b[1;32m--> 213\u001b[0m     \u001b[38;5;28;01mreturn\u001b[39;00m \u001b[43mret\u001b[49m\u001b[38;5;241;43m.\u001b[39;49m\u001b[43mtoarray\u001b[49m\u001b[43m(\u001b[49m\u001b[43m)\u001b[49m\n\u001b[0;32m    214\u001b[0m \u001b[38;5;28;01mreturn\u001b[39;00m ret\n",
      "File \u001b[1;32mG:\\Project(7th Sem)\\Recommendation-Test\\venv\\Lib\\site-packages\\scipy\\sparse\\_compressed.py:1181\u001b[0m, in \u001b[0;36m_cs_matrix.toarray\u001b[1;34m(self, order, out)\u001b[0m\n\u001b[0;32m   1179\u001b[0m \u001b[38;5;28;01mif\u001b[39;00m out \u001b[38;5;129;01mis\u001b[39;00m \u001b[38;5;28;01mNone\u001b[39;00m \u001b[38;5;129;01mand\u001b[39;00m order \u001b[38;5;129;01mis\u001b[39;00m \u001b[38;5;28;01mNone\u001b[39;00m:\n\u001b[0;32m   1180\u001b[0m     order \u001b[38;5;241m=\u001b[39m \u001b[38;5;28mself\u001b[39m\u001b[38;5;241m.\u001b[39m_swap(\u001b[38;5;124m'\u001b[39m\u001b[38;5;124mcf\u001b[39m\u001b[38;5;124m'\u001b[39m)[\u001b[38;5;241m0\u001b[39m]\n\u001b[1;32m-> 1181\u001b[0m out \u001b[38;5;241m=\u001b[39m \u001b[38;5;28;43mself\u001b[39;49m\u001b[38;5;241;43m.\u001b[39;49m\u001b[43m_process_toarray_args\u001b[49m\u001b[43m(\u001b[49m\u001b[43morder\u001b[49m\u001b[43m,\u001b[49m\u001b[43m \u001b[49m\u001b[43mout\u001b[49m\u001b[43m)\u001b[49m\n\u001b[0;32m   1182\u001b[0m \u001b[38;5;28;01mif\u001b[39;00m \u001b[38;5;129;01mnot\u001b[39;00m (out\u001b[38;5;241m.\u001b[39mflags\u001b[38;5;241m.\u001b[39mc_contiguous \u001b[38;5;129;01mor\u001b[39;00m out\u001b[38;5;241m.\u001b[39mflags\u001b[38;5;241m.\u001b[39mf_contiguous):\n\u001b[0;32m   1183\u001b[0m     \u001b[38;5;28;01mraise\u001b[39;00m \u001b[38;5;167;01mValueError\u001b[39;00m(\u001b[38;5;124m'\u001b[39m\u001b[38;5;124mOutput array must be C or F contiguous\u001b[39m\u001b[38;5;124m'\u001b[39m)\n",
      "File \u001b[1;32mG:\\Project(7th Sem)\\Recommendation-Test\\venv\\Lib\\site-packages\\scipy\\sparse\\_base.py:1301\u001b[0m, in \u001b[0;36m_spbase._process_toarray_args\u001b[1;34m(self, order, out)\u001b[0m\n\u001b[0;32m   1299\u001b[0m     \u001b[38;5;28;01mreturn\u001b[39;00m out\n\u001b[0;32m   1300\u001b[0m \u001b[38;5;28;01melse\u001b[39;00m:\n\u001b[1;32m-> 1301\u001b[0m     \u001b[38;5;28;01mreturn\u001b[39;00m \u001b[43mnp\u001b[49m\u001b[38;5;241;43m.\u001b[39;49m\u001b[43mzeros\u001b[49m\u001b[43m(\u001b[49m\u001b[38;5;28;43mself\u001b[39;49m\u001b[38;5;241;43m.\u001b[39;49m\u001b[43mshape\u001b[49m\u001b[43m,\u001b[49m\u001b[43m \u001b[49m\u001b[43mdtype\u001b[49m\u001b[38;5;241;43m=\u001b[39;49m\u001b[38;5;28;43mself\u001b[39;49m\u001b[38;5;241;43m.\u001b[39;49m\u001b[43mdtype\u001b[49m\u001b[43m,\u001b[49m\u001b[43m \u001b[49m\u001b[43morder\u001b[49m\u001b[38;5;241;43m=\u001b[39;49m\u001b[43morder\u001b[49m\u001b[43m)\u001b[49m\n",
      "\u001b[1;31mMemoryError\u001b[0m: Unable to allocate 36.1 TiB for an array with shape (2228891, 2228891) and data type float64"
     ]
    }
   ],
   "source": [
    "# Step 4: Calculate cosine similarity between users based on normalized hours played\n",
    "user_similarity = cosine_similarity(user_game_sparse)"
   ]
  },
  {
   "cell_type": "code",
   "execution_count": null,
   "id": "d55e709c-0fc7-4a6c-8a6d-c7bc018ea74a",
   "metadata": {},
   "outputs": [],
   "source": []
  },
  {
   "cell_type": "code",
   "execution_count": null,
   "id": "8d447854-d869-4b1c-8d86-c82f2cde390d",
   "metadata": {},
   "outputs": [],
   "source": [
    "# Create a DataFrame for easier lookup\n",
    "user_similarity_df = pd.DataFrame(user_similarity, index=df['user_id'].unique(), columns=df['user_id'].unique())"
   ]
  }
 ],
 "metadata": {
  "kernelspec": {
   "display_name": "Python 3 (ipykernel)",
   "language": "python",
   "name": "python3"
  },
  "language_info": {
   "codemirror_mode": {
    "name": "ipython",
    "version": 3
   },
   "file_extension": ".py",
   "mimetype": "text/x-python",
   "name": "python",
   "nbconvert_exporter": "python",
   "pygments_lexer": "ipython3",
   "version": "3.12.5"
  }
 },
 "nbformat": 4,
 "nbformat_minor": 5
}
