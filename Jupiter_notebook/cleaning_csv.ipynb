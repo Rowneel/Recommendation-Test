{
 "cells": [
  {
   "cell_type": "markdown",
   "metadata": {},
   "source": [
    "## DO NOT Run All\n",
    "\n",
    "### File not that imp\n"
   ]
  },
  {
   "cell_type": "markdown",
   "metadata": {},
   "source": [
    "# Load the two CSV files into pandas DataFrames"
   ]
  },
  {
   "cell_type": "code",
   "execution_count": 16,
   "metadata": {},
   "outputs": [
    {
     "name": "stdout",
     "output_type": "stream",
     "text": [
      "   Unnamed: 0   app_id  AppID.1                              Name  \\\n",
      "0           0  2525270  2525270                         The House   \n",
      "1           1  2414640  2414640  Bite Size Terrors: Erobos Heaven   \n",
      "2           2  2486670  2486670                  TD Tower Defense   \n",
      "3           3  2304650  2304650                         The Scrap   \n",
      "4           4  2519670  2519670                         Wind Love   \n",
      "\n",
      "                                      About the game  \\\n",
      "0  ' The House ' is a short psychological horror ...   \n",
      "1  Bite Size Terrors: Are Short Experimental Horr...   \n",
      "2  Td Tower Defense is a fun tower defense shoote...   \n",
      "3  The Scrap is an independent third-person shoot...   \n",
      "4  Gameplay Wind Love - is a Japanese-style visua...   \n",
      "\n",
      "                                          Categories                  Genres  \\\n",
      "0                       Single-player,Steam Workshop  Adventure,Casual,Indie   \n",
      "1                   Single-player,Steam Achievements         Adventure,Indie   \n",
      "2                                      Single-player           Action,Casual   \n",
      "3                   Single-player,Steam Achievements  Action,Adventure,Indie   \n",
      "4  Single-player,Steam Achievements,Captions avai...        Indie,Simulation   \n",
      "\n",
      "                                                Tags  \n",
      "0  Adventure,Casual,Action-Adventure,Walking Simu...  \n",
      "1  Horror,Adventure,Atmospheric,Psychological Hor...  \n",
      "2  Tower Defense,Casual,Sci-fi,Strategy,Combat,Re...  \n",
      "3  Action,Shooter,Third-Person Shooter,3D,Third P...  \n",
      "4  Hentai,Adventure,Dating Sim,Casual,Choices Mat...  \n",
      "***\n"
     ]
    }
   ],
   "source": [
    "import pandas as pd\n",
    "\n",
    "df1 = pd.read_csv('game_better_desc.csv')  # Assuming this file has 'app_id' and 'about game' columns\n",
    "df1 = df1.rename(columns={'AppID': 'app_id'})\n",
    "df2 = pd.read_csv('processed_file.csv')  # Assuming this file has 'app_id' and 'description' columns\n",
    "print(df1.head(5))\n",
    "print(\"***\")\n",
    "# print(df2.head(5))"
   ]
  },
  {
   "cell_type": "code",
   "execution_count": 18,
   "metadata": {},
   "outputs": [
    {
     "name": "stdout",
     "output_type": "stream",
     "text": [
      "    app_id                                     About the game\n",
      "0  2525270  ' The House ' is a short psychological horror ...\n",
      "1  2414640  Bite Size Terrors: Are Short Experimental Horr...\n",
      "2  2486670  Td Tower Defense is a fun tower defense shoote...\n",
      "3  2304650  The Scrap is an independent third-person shoot...\n",
      "4  2519670  Gameplay Wind Love - is a Japanese-style visua...\n"
     ]
    }
   ],
   "source": [
    "#getting only necessary columns from df1\n",
    "df1_reduced = df1[['app_id', 'About the game']]\n",
    "print(df1_reduced.head(5))"
   ]
  },
  {
   "cell_type": "code",
   "execution_count": 24,
   "metadata": {},
   "outputs": [
    {
     "name": "stdout",
     "output_type": "stream",
     "text": [
      "   app_id                              title  \\\n",
      "0   13500  Prince of Persia: Warrior Within™   \n",
      "1  113020       Monaco: What's Yours Is Mine   \n",
      "2  226560                 Escape Dead Island   \n",
      "3  249050            Dungeon of the ENDLESS™   \n",
      "4  250180                       METAL SLUG 3   \n",
      "\n",
      "                                         description  \\\n",
      "0  Enter the dark underworld of Prince of Persia ...   \n",
      "1  Monaco: What's Yours Is Mine is a single playe...   \n",
      "2  Escape Dead Island is a Survival-Mystery adven...   \n",
      "3  Dungeon of the Endless is a Rogue-Like Dungeon...   \n",
      "4  “METAL SLUG 3”, the masterpiece in SNK’s emble...   \n",
      "\n",
      "                                                tags  \n",
      "0  Action,Adventure,Parkour,Third Person,Great So...  \n",
      "1  Co-op,Stealth,Indie,Heist,Local Co-Op,Strategy...  \n",
      "2  Zombies,Adventure,Survival,Action,Third Person...  \n",
      "3  Roguelike,Strategy,Tower Defense,Pixel Graphic...  \n",
      "4  Arcade,Classic,Action,Co-op,Side Scroller,Retr...  \n"
     ]
    },
    {
     "name": "stderr",
     "output_type": "stream",
     "text": [
      "C:\\Users\\user\\AppData\\Local\\Temp\\ipykernel_18252\\1298924450.py:4: SettingWithCopyWarning: \n",
      "A value is trying to be set on a copy of a slice from a DataFrame.\n",
      "Try using .loc[row_indexer,col_indexer] = value instead\n",
      "\n",
      "See the caveats in the documentation: https://pandas.pydata.org/pandas-docs/stable/user_guide/indexing.html#returning-a-view-versus-a-copy\n",
      "  df2_reduced['tags'] = df2_reduced['tags'].apply(lambda x: ','.join(eval(x)) if isinstance(x, str) else x)\n"
     ]
    }
   ],
   "source": [
    "#getting only necessary columns from df2\n",
    "df2_reduced = df2[['app_id', 'title', 'description', 'tags' ]]\n",
    "\n",
    "df2_reduced['tags'] = df2_reduced['tags'].apply(lambda x: ','.join(eval(x)) if isinstance(x, str) else x)\n",
    "print(df2_reduced.head(5))"
   ]
  },
  {
   "cell_type": "code",
   "execution_count": 25,
   "metadata": {},
   "outputs": [
    {
     "name": "stdout",
     "output_type": "stream",
     "text": [
      "   app_id                              title  \\\n",
      "0   13500  Prince of Persia: Warrior Within™   \n",
      "1  113020       Monaco: What's Yours Is Mine   \n",
      "2  226560                 Escape Dead Island   \n",
      "3  249050            Dungeon of the ENDLESS™   \n",
      "4  250180                       METAL SLUG 3   \n",
      "\n",
      "                                         description  \\\n",
      "0  Enter the dark underworld of Prince of Persia ...   \n",
      "1  Monaco: What's Yours Is Mine is a single playe...   \n",
      "2  Escape Dead Island is a Survival-Mystery adven...   \n",
      "3  Dungeon of the Endless is a Rogue-Like Dungeon...   \n",
      "4  “METAL SLUG 3”, the masterpiece in SNK’s emble...   \n",
      "\n",
      "                                                tags About the game  \n",
      "0  Action,Adventure,Parkour,Third Person,Great So...            NaN  \n",
      "1  Co-op,Stealth,Indie,Heist,Local Co-Op,Strategy...            NaN  \n",
      "2  Zombies,Adventure,Survival,Action,Third Person...            NaN  \n",
      "3  Roguelike,Strategy,Tower Defense,Pixel Graphic...            NaN  \n",
      "4  Arcade,Classic,Action,Co-op,Side Scroller,Retr...            NaN  \n"
     ]
    }
   ],
   "source": [
    "# Merge the two DataFrames based on the 'app_id' column\n",
    "merged_df = pd.merge(df2_reduced, df1_reduced, on='app_id', how='left')\n",
    "print(merged_df.head(5))"
   ]
  },
  {
   "cell_type": "code",
   "execution_count": 26,
   "metadata": {},
   "outputs": [
    {
     "name": "stdout",
     "output_type": "stream",
     "text": [
      "   app_id                              title  \\\n",
      "0   13500  Prince of Persia: Warrior Within™   \n",
      "1  113020       Monaco: What's Yours Is Mine   \n",
      "2  226560                 Escape Dead Island   \n",
      "3  249050            Dungeon of the ENDLESS™   \n",
      "4  250180                       METAL SLUG 3   \n",
      "\n",
      "                                         description  \\\n",
      "0  Enter the dark underworld of Prince of Persia ...   \n",
      "1  Monaco: What's Yours Is Mine is a single playe...   \n",
      "2  Escape Dead Island is a Survival-Mystery adven...   \n",
      "3  Dungeon of the Endless is a Rogue-Like Dungeon...   \n",
      "4  “METAL SLUG 3”, the masterpiece in SNK’s emble...   \n",
      "\n",
      "                                                tags About the game  \n",
      "0  Action,Adventure,Parkour,Third Person,Great So...            NaN  \n",
      "1  Co-op,Stealth,Indie,Heist,Local Co-Op,Strategy...            NaN  \n",
      "2  Zombies,Adventure,Survival,Action,Third Person...            NaN  \n",
      "3  Roguelike,Strategy,Tower Defense,Pixel Graphic...            NaN  \n",
      "4  Arcade,Classic,Action,Co-op,Side Scroller,Retr...            NaN  \n"
     ]
    }
   ],
   "source": [
    "# Combine the 'description' and 'about game' columns (you can customize this)\n",
    "merged_df['description'] = merged_df['description'] + ' ' + merged_df['About the game'].fillna('')\n",
    "print(merged_df.head(5))"
   ]
  },
  {
   "cell_type": "code",
   "execution_count": 27,
   "metadata": {},
   "outputs": [
    {
     "name": "stdout",
     "output_type": "stream",
     "text": [
      "   app_id                              title  \\\n",
      "0   13500  Prince of Persia: Warrior Within™   \n",
      "1  113020       Monaco: What's Yours Is Mine   \n",
      "2  226560                 Escape Dead Island   \n",
      "3  249050            Dungeon of the ENDLESS™   \n",
      "4  250180                       METAL SLUG 3   \n",
      "\n",
      "                                         description  \\\n",
      "0  Enter the dark underworld of Prince of Persia ...   \n",
      "1  Monaco: What's Yours Is Mine is a single playe...   \n",
      "2  Escape Dead Island is a Survival-Mystery adven...   \n",
      "3  Dungeon of the Endless is a Rogue-Like Dungeon...   \n",
      "4  “METAL SLUG 3”, the masterpiece in SNK’s emble...   \n",
      "\n",
      "                                                tags  \n",
      "0  Action,Adventure,Parkour,Third Person,Great So...  \n",
      "1  Co-op,Stealth,Indie,Heist,Local Co-Op,Strategy...  \n",
      "2  Zombies,Adventure,Survival,Action,Third Person...  \n",
      "3  Roguelike,Strategy,Tower Defense,Pixel Graphic...  \n",
      "4  Arcade,Classic,Action,Co-op,Side Scroller,Retr...  \n"
     ]
    }
   ],
   "source": [
    "# Drop the 'about game' column as it's now merged into 'description'\n",
    "merged_df = merged_df.drop(columns=['About the game'])\n",
    "print(merged_df.head(5))"
   ]
  },
  {
   "cell_type": "code",
   "execution_count": 28,
   "metadata": {},
   "outputs": [],
   "source": [
    "# Save the merged DataFrame to a new CSV file\n",
    "merged_df.to_csv('games_data.csv', index=False)"
   ]
  }
 ],
 "metadata": {
  "kernelspec": {
   "display_name": ".venv",
   "language": "python",
   "name": "python3"
  },
  "language_info": {
   "codemirror_mode": {
    "name": "ipython",
    "version": 3
   },
   "file_extension": ".py",
   "mimetype": "text/x-python",
   "name": "python",
   "nbconvert_exporter": "python",
   "pygments_lexer": "ipython3",
   "version": "3.12.2"
  }
 },
 "nbformat": 4,
 "nbformat_minor": 2
}
