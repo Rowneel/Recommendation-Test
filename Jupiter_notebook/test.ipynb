{
 "cells": [
  {
   "cell_type": "code",
   "execution_count": 1,
   "metadata": {},
   "outputs": [],
   "source": [
    "import pandas as pd\n",
    "from django.http import JsonResponse\n",
    "import json"
   ]
  },
  {
   "cell_type": "code",
   "execution_count": 2,
   "metadata": {},
   "outputs": [],
   "source": [
    "def reduce_memory(df):\n",
    "    for col in df.columns:\n",
    "        if df[col].dtype == 'float64':\n",
    "            df[col] = df[col].astype('float32')\n",
    "        if df[col].dtype == 'int64':\n",
    "            df[col] = df[col].astype('int32')\n",
    "    return df\n",
    "\n",
    "# games = reduce_memory(pd.read_csv(\"./games_preprocessed_with_tags_porterstemmer.csv\",usecols=[\"title\"])) \n",
    "games = reduce_memory(pd.read_csv(\"./final_dataset.csv\",usecols=[\"title\"])) \n",
    "\n",
    "# games_title = games[\"title\"]\n",
    "# print(games)\n"
   ]
  },
  {
   "cell_type": "code",
   "execution_count": 36,
   "metadata": {},
   "outputs": [
    {
     "name": "stdout",
     "output_type": "stream",
     "text": [
      "[\n",
      "    \"A Bewitching Revolution\",\n",
      "    \"A Salem Witch Trial - Murder Mystery\",\n",
      "    \"Adorable Witch\",\n",
      "    \"Adorable Witch 2\",\n",
      "    \"Adorable Witch 3\",\n",
      "    \"Adorable Witch 4 \\uff1aLust\",\n",
      "    \"Adorable Witch5 : Lingering\",\n",
      "    \"Ashina: The Red Witch\",\n",
      "    \"Ashina: The Red Witch: Prologue\",\n",
      "    \"BLACK WITCHCRAFT\"\n",
      "]\n"
     ]
    }
   ],
   "source": [
    "query = \"witch\"\n",
    "matches = games[games[\"title\"].str.contains(query,case=False,na=False)]\n",
    "# matches_first = games[games[\"title\"].str.split().str[0].str.contains(query, case=False, na=False)]\n",
    "suggestions = matches.head(10)[\"title\"].tolist()\n",
    "# response = JsonResponse(suggestions, safe=False)\n",
    "response = json.dumps(suggestions, indent=4)\n",
    "print(response)"
   ]
  },
  {
   "cell_type": "code",
   "execution_count": 4,
   "metadata": {},
   "outputs": [
    {
     "name": "stdout",
     "output_type": "stream",
     "text": [
      "[\n",
      "    \"Tsukumogami\",\n",
      "    \"TSUKUMOHIME\",\n",
      "    \"Tsukai Furushita Kotoba Ya Uta Wo MV\",\n",
      "    \"Sutekina kanojo no tsukurikata\",\n",
      "    \"Tsukisas Arena\",\n",
      "    \"Tsuki ni Yorisou Otome no Sahou\"\n",
      "]\n"
     ]
    }
   ],
   "source": [
    "\n",
    "query = \"tsuk\"  # Get query from GET request\n",
    "# Load the CSV file containing game titles\n",
    "# games_path = finders.find('src/games_preprocessed_with_tags_porterstemmer.csv')\n",
    "games = pd.read_csv(\"./final_dataset.csv\", usecols=[\"title\"])  # Load only the 'title' column\n",
    "# Ensure 'title' column is a string\n",
    "games['title'] = games['title'].astype(str)\n",
    "matches = pd.DataFrame(columns=[\"title\"])\n",
    "# Step 1: Filter by the first character of the title\n",
    "if len(query) == 1:\n",
    "    matches = games[games['title'].str[0].str.lower() == query[0].lower()]\n",
    "\n",
    "\n",
    "else:\n",
    "    # Step 2: If no matches, filter by the first word\n",
    "    \n",
    "    matches = games[games['title'].str.split().str[0].str.contains(fr'\\b{query}', case=False, na=False)]\n",
    "\n",
    "    # Step 3: If still no matches, filter by the second word\n",
    "    if matches.empty or len(matches)<10:\n",
    "        matches = games[games['title'].str.split().str[1].str.contains(fr'\\b{query}', case=False, na=False)]\n",
    "\n",
    "    # Step 4: If still no matches, filter by the rest of the title\n",
    "    if matches.empty or len(matches)<10:\n",
    "        matches = games[games['title'].str.contains(fr'\\b{query}', case=False, na=False)]\n",
    "\n",
    "# Get top 5 suggestions\n",
    "suggestions = matches.head(10)['title'].tolist()\n",
    "\n",
    "response = json.dumps(suggestions, indent=4)\n",
    "print(response)\n"
   ]
  }
 ],
 "metadata": {
  "kernelspec": {
   "display_name": "venv",
   "language": "python",
   "name": "python3"
  },
  "language_info": {
   "codemirror_mode": {
    "name": "ipython",
    "version": 3
   },
   "file_extension": ".py",
   "mimetype": "text/x-python",
   "name": "python",
   "nbconvert_exporter": "python",
   "pygments_lexer": "ipython3",
   "version": "3.10.0"
  }
 },
 "nbformat": 4,
 "nbformat_minor": 2
}
